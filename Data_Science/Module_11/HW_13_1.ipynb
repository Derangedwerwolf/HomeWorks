{
 "cells": [
  {
   "cell_type": "code",
   "execution_count": 42,
   "id": "b27da160-f837-4569-a5cc-e8e7c658a4b2",
   "metadata": {},
   "outputs": [],
   "source": [
    "from keras.utils import pad_sequences\n",
    "from keras.models import Sequential\n",
    "from keras.layers import Embedding, SimpleRNN, Dense\n",
    "from keras.optimizers import Adam\n",
    "from keras.preprocessing.sequence import pad_sequences\n",
    "from keras.datasets import imdb\n",
    "import matplotlib.pyplot as plt\n",
    "\n",
    "import logging\n",
    "logging.getLogger('tensorflow').setLevel(logging.ERROR)"
   ]
  },
  {
   "cell_type": "code",
   "execution_count": 43,
   "id": "30bb1b32-0dfd-47c8-984c-67c53e72d85f",
   "metadata": {},
   "outputs": [],
   "source": [
    "max_features = 10000  # кількість слів, що розглядаються як особливості\n",
    "maxlen = 500  # обмеження кількості слів в тексті\n",
    "batch_size = 32\n",
    "\n",
    "# Завантаження тренувальних та тестових даних зі вказанням обмеження на кількість слів\n",
    "(x_train, y_train), (x_test, y_test) = imdb.load_data(num_words=max_features)\n",
    "\n",
    "x_train = pad_sequences(x_train, maxlen=maxlen)\n",
    "x_test = pad_sequences(x_test, maxlen=maxlen)\n"
   ]
  },
  {
   "cell_type": "markdown",
   "id": "e03c06bc-d474-4984-81df-1073f95d68e1",
   "metadata": {},
   "source": [
    "Як варіант   \n",
    "\n",
    "from sklearn.model_selection import train_test_split  \r",
    "   \n",
    "розділення тренувального набору на тренувальні та валідаційні   \n",
    "и\r\n",
    "input_train, input_val, y_train, y_val = train_test_split(input_train, y_train, test_size=0.2)"
   ]
  },
  {
   "cell_type": "code",
   "execution_count": 44,
   "id": "969b3e8e-84d8-42fa-ad31-b1724e19793b",
   "metadata": {},
   "outputs": [],
   "source": [
    "model_rnn = Sequential()\n",
    "# Додавання Embedding шару для перетворення слів в вектори фіксованої довжини\n",
    "# Параметри: кількість слів для розгляду як особливості та розмір вектора, що представляє кожне слово\n",
    "model_rnn.add(Embedding(input_dim=max_features, output_dim=32))\n",
    "\n",
    "# Додавання SimpleRNN шару з 32 вузлами (кількість нейронів у шарі SimpleRNN)\n",
    "model_rnn.add(SimpleRNN(32))\n",
    "\n",
    "# Додавання Dense шару з одним вузлом та активацією sigmoid\n",
    "model_rnn.add(Dense(1, activation='sigmoid')) # функція активації (sigmoid для бінарної класифікації)"
   ]
  },
  {
   "cell_type": "code",
   "execution_count": 45,
   "id": "81bfc9f9-8e4d-40e1-85d8-8a6acfa5a3d7",
   "metadata": {},
   "outputs": [],
   "source": [
    "from tensorflow.keras.layers import LSTM\n",
    "\n",
    "model_lstm = Sequential()\n",
    "model_lstm.add(Embedding(input_dim=max_features, output_dim=32))\n",
    "#model_lstm.add(LSTM(32, return_sequences=True))  # Перший LSTM шар\n",
    "model_lstm.add(LSTM(32))                         # Другий LSTM шар\n",
    "model_lstm.add(Dense(1, activation='sigmoid'))"
   ]
  },
  {
   "cell_type": "code",
   "execution_count": 46,
   "id": "6e7c05b3-6d51-4f78-854a-5ccb548f121b",
   "metadata": {},
   "outputs": [],
   "source": [
    "from tensorflow.keras.layers import GRU\n",
    "from tensorflow.keras.layers import Dropout\n",
    "\n",
    "model_gru = Sequential()\n",
    "model_gru.add(Embedding(input_dim=max_features, output_dim=32))\n",
    "model_gru.add(GRU(32))  # 32 - кількість нейронів у шарі GRU\n",
    "model_gru.add(Dense(64, activation='relu'))  # Додатковий щільний шар\n",
    "model_gru.add(Dropout(0.5))\n",
    "model_gru.add(Dense(1, activation='sigmoid'))  # Останній шар для бінарної класифікації"
   ]
  },
  {
   "cell_type": "code",
   "execution_count": 47,
   "id": "1da3d090-d8cd-4b4e-b80c-c87cce583eb3",
   "metadata": {},
   "outputs": [
    {
     "name": "stdout",
     "output_type": "stream",
     "text": [
      "Model: \"sequential_12\"\n",
      "_________________________________________________________________\n",
      " Layer (type)                Output Shape              Param #   \n",
      "=================================================================\n",
      " embedding_12 (Embedding)    (None, None, 32)          320000    \n",
      "                                                                 \n",
      " simple_rnn_3 (SimpleRNN)    (None, 32)                2080      \n",
      "                                                                 \n",
      " dense_8 (Dense)             (None, 1)                 33        \n",
      "                                                                 \n",
      "=================================================================\n",
      "Total params: 322113 (1.23 MB)\n",
      "Trainable params: 322113 (1.23 MB)\n",
      "Non-trainable params: 0 (0.00 Byte)\n",
      "_________________________________________________________________\n"
     ]
    }
   ],
   "source": [
    "model_rnn.compile(optimizer='adam', loss='binary_crossentropy', metrics=['accuracy'])\n",
    "\n",
    "model_rnn.summary()"
   ]
  },
  {
   "cell_type": "code",
   "execution_count": 53,
   "id": "8de745fc-f197-44fb-9b93-4ef3834d1651",
   "metadata": {},
   "outputs": [
    {
     "name": "stdout",
     "output_type": "stream",
     "text": [
      "Model: \"sequential_13\"\n",
      "_________________________________________________________________\n",
      " Layer (type)                Output Shape              Param #   \n",
      "=================================================================\n",
      " embedding_13 (Embedding)    (None, None, 32)          320000    \n",
      "                                                                 \n",
      " lstm_6 (LSTM)               (None, 32)                8320      \n",
      "                                                                 \n",
      " dense_9 (Dense)             (None, 1)                 33        \n",
      "                                                                 \n",
      "=================================================================\n",
      "Total params: 328353 (1.25 MB)\n",
      "Trainable params: 328353 (1.25 MB)\n",
      "Non-trainable params: 0 (0.00 Byte)\n",
      "_________________________________________________________________\n"
     ]
    }
   ],
   "source": [
    "model_lstm.compile(Adam(learning_rate=0.0001, beta_1=0.9, beta_2=0.999, epsilon=1e-07), \n",
    "                   loss='binary_crossentropy', \n",
    "                   metrics=['accuracy'])\n",
    "\n",
    "model_lstm.summary()"
   ]
  },
  {
   "cell_type": "code",
   "execution_count": 49,
   "id": "eb11d362-8839-42d5-8043-4438cc90efed",
   "metadata": {},
   "outputs": [
    {
     "name": "stdout",
     "output_type": "stream",
     "text": [
      "Model: \"sequential_14\"\n",
      "_________________________________________________________________\n",
      " Layer (type)                Output Shape              Param #   \n",
      "=================================================================\n",
      " embedding_14 (Embedding)    (None, None, 32)          320000    \n",
      "                                                                 \n",
      " gru_3 (GRU)                 (None, 32)                6336      \n",
      "                                                                 \n",
      " dense_10 (Dense)            (None, 64)                2112      \n",
      "                                                                 \n",
      " dropout_1 (Dropout)         (None, 64)                0         \n",
      "                                                                 \n",
      " dense_11 (Dense)            (None, 1)                 65        \n",
      "                                                                 \n",
      "=================================================================\n",
      "Total params: 328513 (1.25 MB)\n",
      "Trainable params: 328513 (1.25 MB)\n",
      "Non-trainable params: 0 (0.00 Byte)\n",
      "_________________________________________________________________\n"
     ]
    }
   ],
   "source": [
    "model_gru.compile(Adam(learning_rate=0.0001, beta_1=0.9, beta_2=0.999, epsilon=1e-07), \n",
    "                  loss='binary_crossentropy', \n",
    "                  metrics=['accuracy'])\n",
    "\n",
    "model_gru.summary()"
   ]
  },
  {
   "cell_type": "code",
   "execution_count": 13,
   "id": "7c2df545-193e-4baa-8d1b-22e60e9013cc",
   "metadata": {},
   "outputs": [
    {
     "name": "stdout",
     "output_type": "stream",
     "text": [
      "Epoch 1/10\n",
      "137/137 [==============================] - 14s 96ms/step - loss: 0.5588 - accuracy: 0.7121 - val_loss: 0.4337 - val_accuracy: 0.8056\n",
      "Epoch 2/10\n",
      "137/137 [==============================] - 13s 95ms/step - loss: 0.3705 - accuracy: 0.8517 - val_loss: 0.3696 - val_accuracy: 0.8489\n",
      "Epoch 3/10\n",
      "137/137 [==============================] - 14s 99ms/step - loss: 0.2455 - accuracy: 0.9062 - val_loss: 0.3757 - val_accuracy: 0.8447\n",
      "Epoch 4/10\n",
      "137/137 [==============================] - 14s 103ms/step - loss: 0.1573 - accuracy: 0.9461 - val_loss: 0.3729 - val_accuracy: 0.8565\n",
      "Epoch 5/10\n",
      "137/137 [==============================] - 14s 103ms/step - loss: 0.1172 - accuracy: 0.9610 - val_loss: 0.5095 - val_accuracy: 0.7743\n",
      "Epoch 6/10\n",
      "137/137 [==============================] - 14s 101ms/step - loss: 0.0724 - accuracy: 0.9791 - val_loss: 0.4777 - val_accuracy: 0.8299\n",
      "Epoch 7/10\n",
      "137/137 [==============================] - 15s 107ms/step - loss: 0.0329 - accuracy: 0.9918 - val_loss: 0.5034 - val_accuracy: 0.8463\n",
      "Epoch 8/10\n",
      "137/137 [==============================] - 14s 102ms/step - loss: 0.0183 - accuracy: 0.9966 - val_loss: 0.5522 - val_accuracy: 0.8472\n",
      "Epoch 9/10\n",
      "137/137 [==============================] - 15s 110ms/step - loss: 0.0113 - accuracy: 0.9984 - val_loss: 0.5860 - val_accuracy: 0.8391\n",
      "Epoch 10/10\n",
      "137/137 [==============================] - 15s 108ms/step - loss: 0.0084 - accuracy: 0.9989 - val_loss: 0.6022 - val_accuracy: 0.8465\n"
     ]
    }
   ],
   "source": [
    "history = model_rnn.fit(x_train, y_train, epochs=7, batch_size=128, validation_split=0.3)\n",
    "# Запускаємо навчання моделі на тренувальних даних для 5 епох з розміром пакету 128 та розбиттям на тренувальну та валідаційну підмножини"
   ]
  },
  {
   "cell_type": "code",
   "execution_count": 54,
   "id": "ab3e4e32-868b-473a-8650-91df55f5391d",
   "metadata": {},
   "outputs": [
    {
     "name": "stdout",
     "output_type": "stream",
     "text": [
      "Epoch 1/7\n",
      "137/137 [==============================] - 30s 206ms/step - loss: 0.3977 - accuracy: 0.8593 - val_loss: 0.3908 - val_accuracy: 0.8515\n",
      "Epoch 2/7\n",
      "137/137 [==============================] - 29s 212ms/step - loss: 0.3398 - accuracy: 0.8811 - val_loss: 0.3516 - val_accuracy: 0.8671\n",
      "Epoch 3/7\n",
      "137/137 [==============================] - 29s 211ms/step - loss: 0.2949 - accuracy: 0.8976 - val_loss: 0.3278 - val_accuracy: 0.8737\n",
      "Epoch 4/7\n",
      "137/137 [==============================] - 28s 203ms/step - loss: 0.2663 - accuracy: 0.9094 - val_loss: 0.3169 - val_accuracy: 0.8743\n",
      "Epoch 5/7\n",
      "137/137 [==============================] - 28s 202ms/step - loss: 0.2447 - accuracy: 0.9177 - val_loss: 0.3125 - val_accuracy: 0.8772\n",
      "Epoch 6/7\n",
      "137/137 [==============================] - 29s 209ms/step - loss: 0.2234 - accuracy: 0.9255 - val_loss: 0.3015 - val_accuracy: 0.8816\n",
      "Epoch 7/7\n",
      "137/137 [==============================] - 28s 206ms/step - loss: 0.2038 - accuracy: 0.9342 - val_loss: 0.3122 - val_accuracy: 0.8804\n"
     ]
    }
   ],
   "source": [
    "history = model_lstm.fit(x_train, y_train, epochs=7, batch_size=128, validation_split=0.3)"
   ]
  },
  {
   "cell_type": "code",
   "execution_count": 34,
   "id": "979d56e7-783b-4477-b183-9751e24ff3ac",
   "metadata": {},
   "outputs": [
    {
     "name": "stdout",
     "output_type": "stream",
     "text": [
      "Epoch 1/5\n",
      "137/137 [==============================] - 30s 204ms/step - loss: 0.5639 - accuracy: 0.6895 - val_loss: 0.3592 - val_accuracy: 0.8447\n",
      "Epoch 2/5\n",
      "137/137 [==============================] - 28s 205ms/step - loss: 0.2780 - accuracy: 0.8927 - val_loss: 0.4078 - val_accuracy: 0.8161\n",
      "Epoch 3/5\n",
      "137/137 [==============================] - 28s 207ms/step - loss: 0.2015 - accuracy: 0.9273 - val_loss: 0.3326 - val_accuracy: 0.8787\n",
      "Epoch 4/5\n",
      "137/137 [==============================] - 29s 212ms/step - loss: 0.1485 - accuracy: 0.9494 - val_loss: 0.3697 - val_accuracy: 0.8748\n",
      "Epoch 5/5\n",
      "137/137 [==============================] - 30s 220ms/step - loss: 0.1068 - accuracy: 0.9651 - val_loss: 0.4075 - val_accuracy: 0.8727\n"
     ]
    }
   ],
   "source": [
    "history = model_gru.fit(x_train, y_train, epochs=5, batch_size=128, validation_split=0.3)"
   ]
  },
  {
   "cell_type": "code",
   "execution_count": null,
   "id": "31aefcb3-0bd5-478d-8133-7ba9fd392bdd",
   "metadata": {},
   "outputs": [],
   "source": [
    "acc = history.history['acc']\n",
    "val_acc = history.history['val_acc']\n",
    "loss = history.history['loss']\n",
    "val_loss = history.history['val_loss']\n",
    "\n",
    "epochs = range(1, len(acc) + 1)\n",
    "\n",
    "plt.plot(epochs, acc, 'bo', label='Точність на тренуванні')  # Графік точності на тренувальних данних\n",
    "plt.plot(epochs, val_acc, 'b', label='Точність на валідації')  # Графік точності на валідаційних данних\n",
    "plt.title('Точність тренування і валідації')  # Заголовок графіку\n",
    "plt.legend()  # Показати легенду\n",
    "\n",
    "plt.figure()\n",
    "\n",
    "plt.plot(epochs, loss, 'bo', label='Втрати на тренуванні')  # Графік втрат на тренувальних данних\n",
    "plt.plot(epochs, val_loss, 'b', label='Втрати на валідації')  # Графік втрат на валідаційних данних\n",
    "plt.title('Втрати тренування і валідації')  # Заголовок графіку\n",
    "plt.legend()  # Показати легенду\n",
    "\n",
    "plt.show()  # Відобразити графіки"
   ]
  },
  {
   "cell_type": "code",
   "execution_count": null,
   "id": "5f7de9b3-451b-444b-a148-d00342a6452d",
   "metadata": {},
   "outputs": [],
   "source": [
    "predictions = model_rnn.predict(x_test)\n",
    "\n",
    "# Для отримання зрозумілішого вигляду прогнозів, їх можна перетворити в бінарний формат:\n",
    "binary_predictions = [1 if pred > 0.5 else 0 for pred in predictions]\n",
    "\n",
    "# Для порівняння можна вивести деякі прогнозовані значення поряд з фактичними значеннями\n",
    "for i in range(10):\n",
    "    print(f\"Прогнозоване: {binary_predictions[i]}, Фактичне: {y_test[i]}\")\n",
    "\n",
    "# Додатковий крок: Оцінка моделі\n",
    "# Це дасть загальну точність моделі на тестових даних\n",
    "test_loss, test_acc = model_rnn.evaluate(x_test, y_test)\n",
    "print('Test Loss: {}'.format(test_loss))\n",
    "print('Test Accuracy: {}'.format(test_acc))"
   ]
  },
  {
   "cell_type": "code",
   "execution_count": 55,
   "id": "0a163cf6-c4be-4ad1-92a2-dc41d9b4333a",
   "metadata": {},
   "outputs": [
    {
     "name": "stdout",
     "output_type": "stream",
     "text": [
      "782/782 [==============================] - 26s 33ms/step\n",
      "Прогнозоване: 0, Фактичне: 0\n",
      "Прогнозоване: 1, Фактичне: 1\n",
      "Прогнозоване: 0, Фактичне: 1\n",
      "Прогнозоване: 0, Фактичне: 0\n",
      "Прогнозоване: 1, Фактичне: 1\n",
      "Прогнозоване: 1, Фактичне: 1\n",
      "Прогнозоване: 1, Фактичне: 1\n",
      "Прогнозоване: 0, Фактичне: 0\n",
      "Прогнозоване: 1, Фактичне: 0\n",
      "Прогнозоване: 1, Фактичне: 1\n",
      "782/782 [==============================] - 26s 33ms/step - loss: 0.3384 - accuracy: 0.8670\n",
      "Test Loss: 0.3383844792842865\n",
      "Test Accuracy: 0.8670399785041809\n"
     ]
    }
   ],
   "source": [
    "predictions = model_lstm.predict(x_test)\n",
    "\n",
    "# Для отримання зрозумілішого вигляду прогнозів, їх можна перетворити в бінарний формат:\n",
    "binary_predictions = [1 if pred > 0.5 else 0 for pred in predictions]\n",
    "\n",
    "# Для порівняння можна вивести деякі прогнозовані значення поряд з фактичними значеннями\n",
    "for i in range(10):\n",
    "    print(f\"Прогнозоване: {binary_predictions[i]}, Фактичне: {y_test[i]}\")\n",
    "\n",
    "# Додатковий крок: Оцінка моделі\n",
    "# Це дасть загальну точність моделі на тестових даних\n",
    "test_loss, test_acc = model_lstm.evaluate(x_test, y_test)\n",
    "print('Test Loss: {}'.format(test_loss))\n",
    "print('Test Accuracy: {}'.format(test_acc))"
   ]
  },
  {
   "cell_type": "code",
   "execution_count": 40,
   "id": "aca88f9a-d390-4813-add3-947e31304c80",
   "metadata": {},
   "outputs": [
    {
     "name": "stdout",
     "output_type": "stream",
     "text": [
      "782/782 [==============================] - 50s 63ms/step\n",
      "Прогнозоване: 0, Фактичне: 0\n",
      "Прогнозоване: 1, Фактичне: 1\n",
      "Прогнозоване: 1, Фактичне: 1\n",
      "Прогнозоване: 0, Фактичне: 0\n",
      "Прогнозоване: 1, Фактичне: 1\n",
      "Прогнозоване: 1, Фактичне: 1\n",
      "Прогнозоване: 1, Фактичне: 1\n",
      "Прогнозоване: 0, Фактичне: 0\n",
      "Прогнозоване: 1, Фактичне: 0\n",
      "Прогнозоване: 1, Фактичне: 1\n",
      "782/782 [==============================] - 37s 46ms/step - loss: 0.4488 - accuracy: 0.8582\n",
      "Test Loss: 0.4488319158554077\n",
      "Test Accuracy: 0.858240008354187\n"
     ]
    }
   ],
   "source": [
    "predictions = model_gru.predict(x_test)\n",
    "\n",
    "# Для отримання зрозумілішого вигляду прогнозів, їх можна перетворити в бінарний формат:\n",
    "binary_predictions = [1 if pred > 0.5 else 0 for pred in predictions]\n",
    "\n",
    "# Для порівняння можна вивести деякі прогнозовані значення поряд з фактичними значеннями\n",
    "for i in range(10):\n",
    "    print(f\"Прогнозоване: {binary_predictions[i]}, Фактичне: {y_test[i]}\")\n",
    "\n",
    "# Додатковий крок: Оцінка моделі\n",
    "# Це дасть загальну точність моделі на тестових даних\n",
    "test_loss, test_acc = model_gru.evaluate(x_test, y_test)\n",
    "print('Test Loss: {}'.format(test_loss))\n",
    "print('Test Accuracy: {}'.format(test_acc))"
   ]
  },
  {
   "cell_type": "code",
   "execution_count": null,
   "id": "d42dfd7c-95ba-4648-a5aa-300120fe66c4",
   "metadata": {},
   "outputs": [],
   "source": []
  }
 ],
 "metadata": {
  "kernelspec": {
   "display_name": "Python 3 (ipykernel)",
   "language": "python",
   "name": "python3"
  },
  "language_info": {
   "codemirror_mode": {
    "name": "ipython",
    "version": 3
   },
   "file_extension": ".py",
   "mimetype": "text/x-python",
   "name": "python",
   "nbconvert_exporter": "python",
   "pygments_lexer": "ipython3",
   "version": "3.10.11"
  }
 },
 "nbformat": 4,
 "nbformat_minor": 5
}
