{
 "cells": [
  {
   "cell_type": "code",
   "execution_count": 7,
   "id": "c1579c15-91c8-4b57-ace8-653c26d3daa6",
   "metadata": {},
   "outputs": [],
   "source": [
    "from tensorflow.keras.models import Sequential\n",
    "from tensorflow.keras.layers import Embedding, Bidirectional, LSTM, Dense, Dropout\n",
    "from keras.optimizers import Adam\n",
    "from tensorflow.keras.preprocessing.sequence import pad_sequences\n",
    "from tensorflow.keras.datasets import imdb\n",
    "\n",
    "import logging\n",
    "logging.getLogger('tensorflow').setLevel(logging.ERROR)"
   ]
  },
  {
   "cell_type": "code",
   "execution_count": 2,
   "id": "2e2db37f-313a-4ae8-8724-1e27e7647df2",
   "metadata": {},
   "outputs": [],
   "source": [
    "# Гіперпараметри\n",
    "max_features = 10000  # Кількість слів у словнику\n",
    "maxlen = 500  # Максимальна довжина послідовності\n",
    "embedding_size = 32\n",
    "lstm_units = 32\n",
    "dropout_rate = 0.5\n",
    "batch_size = 64\n",
    "epochs = 7\n"
   ]
  },
  {
   "cell_type": "code",
   "execution_count": 3,
   "id": "3b97d15b-96c4-4a5d-9bb2-872096ccdf2f",
   "metadata": {},
   "outputs": [],
   "source": [
    "# Завантаження та підготовка даних\n",
    "(input_train, y_train), (input_test, y_test) = imdb.load_data(num_words=max_features)\n",
    "input_train = pad_sequences(input_train, maxlen=maxlen)\n",
    "input_test = pad_sequences(input_test, maxlen=maxlen)\n"
   ]
  },
  {
   "cell_type": "code",
   "execution_count": 8,
   "id": "c51ce9cd-7ea6-4f37-90f7-5fc86bfe86a6",
   "metadata": {},
   "outputs": [
    {
     "name": "stdout",
     "output_type": "stream",
     "text": [
      "Epoch 1/10\n",
      "391/391 [==============================] - 101s 250ms/step - loss: 0.6824 - accuracy: 0.5729 - val_loss: 0.6241 - val_accuracy: 0.6503\n",
      "Epoch 2/10\n",
      "391/391 [==============================] - 96s 246ms/step - loss: 0.5141 - accuracy: 0.7992 - val_loss: 0.4727 - val_accuracy: 0.8194\n",
      "Epoch 3/10\n",
      "391/391 [==============================] - 97s 247ms/step - loss: 0.3993 - accuracy: 0.8608 - val_loss: 0.4157 - val_accuracy: 0.8403\n",
      "Epoch 4/10\n",
      "391/391 [==============================] - 96s 246ms/step - loss: 0.3252 - accuracy: 0.8892 - val_loss: 0.3455 - val_accuracy: 0.8648\n",
      "Epoch 5/10\n",
      "391/391 [==============================] - 95s 243ms/step - loss: 0.3060 - accuracy: 0.8906 - val_loss: 0.3172 - val_accuracy: 0.8744\n",
      "Epoch 6/10\n",
      "391/391 [==============================] - 95s 242ms/step - loss: 0.2484 - accuracy: 0.9178 - val_loss: 0.3195 - val_accuracy: 0.8737\n",
      "Epoch 7/10\n",
      "391/391 [==============================] - 96s 245ms/step - loss: 0.2227 - accuracy: 0.9265 - val_loss: 0.3260 - val_accuracy: 0.8673\n",
      "Epoch 8/10\n",
      "391/391 [==============================] - 97s 249ms/step - loss: 0.2012 - accuracy: 0.9349 - val_loss: 0.3049 - val_accuracy: 0.8757\n",
      "Epoch 9/10\n",
      "391/391 [==============================] - 98s 251ms/step - loss: 0.1841 - accuracy: 0.9406 - val_loss: 0.2957 - val_accuracy: 0.8788\n",
      "Epoch 10/10\n",
      "391/391 [==============================] - 99s 254ms/step - loss: 0.1721 - accuracy: 0.9466 - val_loss: 0.3641 - val_accuracy: 0.8658\n"
     ]
    }
   ],
   "source": [
    "# Побудова моделі\n",
    "model_bi = Sequential()\n",
    "model_bi.add(Embedding(max_features, embedding_size, input_length=maxlen))\n",
    "model_bi.add(Bidirectional(LSTM(lstm_units)))\n",
    "model_bi.add(Dropout(dropout_rate))\n",
    "model_bi.add(Dense(1, activation='sigmoid'))\n",
    "\n",
    "# Компіляція моделі\n",
    "model_bi.compile(Adam(learning_rate=0.0001, beta_1=0.9, beta_2=0.999, epsilon=1e-07), \n",
    "                 loss='binary_crossentropy', \n",
    "                 metrics=['accuracy'])\n",
    "\n",
    "# Тренування моделі\n",
    "history_bi = model_bi.fit(input_train, y_train, batch_size=batch_size, epochs=epochs, validation_data=(input_test, y_test))"
   ]
  },
  {
   "cell_type": "code",
   "execution_count": null,
   "id": "e494a277-1679-4d77-a371-171c284cf1f4",
   "metadata": {},
   "outputs": [],
   "source": [
    "model.summary()"
   ]
  },
  {
   "cell_type": "code",
   "execution_count": 6,
   "id": "a5be5962-91e9-4e99-b4c3-97e2d82001e0",
   "metadata": {},
   "outputs": [
    {
     "name": "stdout",
     "output_type": "stream",
     "text": [
      "782/782 [==============================] - 46s 58ms/step\n",
      "Прогнозоване: 0, Фактичне: 0\n",
      "Прогнозоване: 1, Фактичне: 1\n",
      "Прогнозоване: 1, Фактичне: 1\n",
      "Прогнозоване: 0, Фактичне: 0\n",
      "Прогнозоване: 1, Фактичне: 1\n",
      "Прогнозоване: 1, Фактичне: 1\n",
      "Прогнозоване: 1, Фактичне: 1\n",
      "Прогнозоване: 0, Фактичне: 0\n",
      "Прогнозоване: 1, Фактичне: 0\n",
      "Прогнозоване: 1, Фактичне: 1\n",
      "782/782 [==============================] - 45s 57ms/step - loss: 0.5016 - accuracy: 0.8559\n",
      "Test Loss: 0.5015638470649719\n",
      "Test Accuracy: 0.8559200167655945\n"
     ]
    }
   ],
   "source": [
    "predictions = model_bi.predict(input_test)\n",
    "\n",
    "# Для отримання зрозумілішого вигляду прогнозів, їх можна перетворити в бінарний формат:\n",
    "binary_predictions = [1 if pred > 0.5 else 0 for pred in predictions]\n",
    "\n",
    "# Для порівняння можна вивести деякі прогнозовані значення поряд з фактичними значеннями\n",
    "for i in range(10):\n",
    "    print(f\"Прогнозоване: {binary_predictions[i]}, Фактичне: {y_test[i]}\")\n",
    "\n",
    "# Додатковий крок: Оцінка моделі\n",
    "# Це дасть загальну точність моделі на тестових даних\n",
    "test_loss, test_acc = model_bi.evaluate(input_test, y_test)\n",
    "print('Test Loss: {}'.format(test_loss))\n",
    "print('Test Accuracy: {}'.format(test_acc))"
   ]
  },
  {
   "cell_type": "code",
   "execution_count": null,
   "id": "1b0d4a32-db82-47e5-af55-0e2248cae3d0",
   "metadata": {},
   "outputs": [],
   "source": []
  }
 ],
 "metadata": {
  "kernelspec": {
   "display_name": "Python 3 (ipykernel)",
   "language": "python",
   "name": "python3"
  },
  "language_info": {
   "codemirror_mode": {
    "name": "ipython",
    "version": 3
   },
   "file_extension": ".py",
   "mimetype": "text/x-python",
   "name": "python",
   "nbconvert_exporter": "python",
   "pygments_lexer": "ipython3",
   "version": "3.10.11"
  }
 },
 "nbformat": 4,
 "nbformat_minor": 5
}
