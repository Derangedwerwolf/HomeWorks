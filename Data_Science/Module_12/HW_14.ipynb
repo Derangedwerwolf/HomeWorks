{
 "cells": [
  {
   "cell_type": "code",
   "execution_count": 39,
   "id": "dd524f1a-9da8-4b49-ba22-623a68a85999",
   "metadata": {},
   "outputs": [],
   "source": [
    "import spacy\n",
    "import nltk\n",
    "from nltk.corpus import stopwords\n",
    "from nltk.tokenize import word_tokenize, sent_tokenize\n",
    "from collections import Counter\n",
    "\n",
    "#from string import punctuation\n",
    "\n",
    "import logging\n",
    "logging.getLogger('tensorflow').setLevel(logging.ERROR)\n",
    "\n",
    "# Load SpaCy's English model\n",
    "nlp = spacy.load('en_core_web_sm')\n",
    "\n",
    "# # Download NLTK's stopword list\n",
    "# nltk.download('punkt')\n",
    "# nltk.download('stopwords')\n",
    "# nltk.download('popular')"
   ]
  },
  {
   "cell_type": "code",
   "execution_count": 20,
   "id": "d366f421-6429-414f-9c36-73a2a78ae91b",
   "metadata": {},
   "outputs": [],
   "source": [
    "text = \"\"\"\n",
    "The Orbiter Discovery, OV-103, is considered eligible for listing in the National Register of Historic Places (NRHP) in the context of the U.S. Space Shuttle Program (1969-2011) under Criterion A in the areas of Space Exploration and Transportation and under Criterion C in the area of Engineering. Because it has achieved significance within the past fifty years, Criteria Consideration G applies. Under Criterion A, Discovery is significant as the oldest of the three extant orbiter vehicles constructed for the Space Shuttle Program (SSP), the longest running American space program to date; she was the third of five orbiters built by NASA. Unlike the Mercury, Gemini, and Apollo programs, the SSP’s emphasis was on cost effectiveness and reusability, and eventually the construction of a space station. Including her maiden voyage (launched August 30, 1984), Discovery flew to space thirty-nine times, more than any of the other four orbiters; she was also the first orbiter to fly twenty missions. She had the honor of being chosen as the Return to Flight vehicle after both the Challenger and Columbia accidents. Discovery was the first shuttle to fly with the redesigned SRBs, a result of the Challenger accident, and the first shuttle to fly with the Phase II and Block I SSME. Discovery also carried the Hubble Space Telescope to orbit and performed two of the five servicing missions to the observatory. She flew the first and last dedicated Department of Defense (DoD) missions, as well as the first unclassified defense-related mission. In addition, Discovery was vital to the construction of the International Space Station (ISS); she flew thirteen of the thirty-seven total missions flown to the station by a U.S. Space Shuttle. She was the first orbiter to dock to the ISS, and the first to perform an exchange of a resident crew. Under Criterion C, Discovery is significant as a feat of engineering. According to Wayne Hale, a flight director from Johnson Space Center, the Space Shuttle orbiter represents a “huge technological leap from expendable rockets and capsules to a reusable, winged, hypersonic, cargo-carrying spacecraft.” Although her base structure followed a conventional aircraft design, she used advanced materials that both minimized her weight for cargo-carrying purposes and featured low thermal expansion ratios, which provided a stable base for her Thermal Protection System (TPS) materials. The Space Shuttle orbiter also featured the first reusable TPS; all previous spaceflight vehicles had a single-use, ablative heat shield. Other notable engineering achievements of the orbiter included the first reusable orbital propulsion system, and the first two-fault-tolerant Integrated Avionics System. As Hale stated, the Space Shuttle remains “the largest, fastest, winged hypersonic aircraft in history,” having regularly flown at twenty-five times the speed of sound.\n",
    "\"\"\""
   ]
  },
  {
   "cell_type": "code",
   "execution_count": 40,
   "id": "c52bb86b-4d48-4ffd-b90b-254974617e63",
   "metadata": {},
   "outputs": [],
   "source": [
    "# Tokenize the text into sentences\n",
    "sentences = sent_tokenize(text)\n",
    "\n",
    "# Tokenize the text into words and remove stopwords\n",
    "stop_words = set(stopwords.words('english'))\n",
    "words = [word_tokenize(sent) for sent in sentences]\n",
    "punctuation += '\\n'\n",
    "\n",
    "filtered_words = []\n",
    "for word_list in words:\n",
    "    filtered_word_list = []\n",
    "    for word in word_list:\n",
    "        # Конвертуємо слово до нижнього регістру і перевіряємо чи це не стопслово \n",
    "        if word.lower() not in stop_words:\n",
    "            filtered_word_list.append(word)\n",
    "    # Додаємо відфільтрований список слів кожного речення до основного списку\n",
    "    filtered_words.append(filtered_word_list)\n",
    "\n",
    "#filtered_words = [[word for word in word_list if word.lower() not in stop_words] for word_list in words]"
   ]
  },
  {
   "cell_type": "code",
   "execution_count": 22,
   "id": "0908f306-5431-4421-ab13-032ebe609a4b",
   "metadata": {},
   "outputs": [],
   "source": [
    "# Flatten the list of words and count the frequency\n",
    "all_words = [word for sublist in filtered_words for word in sublist]\n",
    "word_frequencies = Counter(all_words)\n",
    "\n",
    "# Consider the most common 5 words as key words\n",
    "key_words = [word for word, freq in word_frequencies.most_common(5)]"
   ]
  },
  {
   "cell_type": "code",
   "execution_count": 23,
   "id": "fd10c1da-3460-40e9-84df-0314423c0c6c",
   "metadata": {},
   "outputs": [],
   "source": [
    "sentence_scores = {}\n",
    "for sent in sentences:\n",
    "    for word in word_tokenize(sent.lower()):\n",
    "        if word not in punctuation:\n",
    "            if word in key_words:\n",
    "                if sent not in sentence_scores:\n",
    "                    sentence_scores[sent] = 1\n",
    "                else:\n",
    "                    sentence_scores[sent] += 1"
   ]
  },
  {
   "cell_type": "code",
   "execution_count": 30,
   "id": "a02561f3-8895-4a1e-90f5-e4434ac2e577",
   "metadata": {},
   "outputs": [
    {
     "name": "stdout",
     "output_type": "stream",
     "text": [
      "\n",
      "The Orbiter Discovery, OV-103, is considered eligible for listing in the National Register of Historic Places (NRHP) in the context of the U.S. Space Shuttle Program (1969-2011) under Criterion A in the areas of Space Exploration and Transportation and under Criterion C in the area of Engineering. Although her base structure followed a conventional aircraft design, she used advanced materials that both minimized her weight for cargo-carrying purposes and featured low thermal expansion ratios, which provided a stable base for her Thermal Protection System (TPS) materials. According to Wayne Hale, a flight director from Johnson Space Center, the Space Shuttle orbiter represents a “huge technological leap from expendable rockets and capsules to a reusable, winged, hypersonic, cargo-carrying spacecraft.” Under Criterion A, Discovery is significant as the oldest of the three extant orbiter vehicles constructed for the Space Shuttle Program (SSP), the longest running American space program to date; she was the third of five orbiters built by NASA. In addition, Discovery was vital to the construction of the International Space Station (ISS); she flew thirteen of the thirty-seven total missions flown to the station by a U.S. Space Shuttle.\n"
     ]
    }
   ],
   "source": [
    "# Select top 5 sentences for summary\n",
    "summary_sentences = sorted(sentence_scores, key=sentence_scores.get, reverse=True)[:5]\n",
    "summary = ' '.join(summary_sentences)\n",
    "print(summary)\n"
   ]
  },
  {
   "cell_type": "code",
   "execution_count": 31,
   "id": "39719e89-e503-4717-ba81-9761f00b230e",
   "metadata": {},
   "outputs": [
    {
     "data": {
      "text/plain": [
       "\"\\nProcess: This method sorts all the sentences based on their scores in descending order and then slices the list to get the top 5 sentences.\\nEfficiency: For a small number of sentences, this method is sufficiently efficient. However, its efficiency decreases as the size of the data increases because it sorts the entire list before slicing.\\nUse Case: Best for smaller datasets where sorting the entire list doesn't have a significant performance impact.\\n\""
      ]
     },
     "execution_count": 31,
     "metadata": {},
     "output_type": "execute_result"
    }
   ],
   "source": [
    "\"\"\"\n",
    "Process: This method sorts all the sentences based on their scores in descending order and then slices the list to get the top 5 sentences.\n",
    "Efficiency: For a small number of sentences, this method is sufficiently efficient. However, its efficiency decreases as the size of the data increases because it sorts the entire list before slicing.\n",
    "Use Case: Best for smaller datasets where sorting the entire list doesn't have a significant performance impact.\n",
    "\"\"\""
   ]
  },
  {
   "cell_type": "markdown",
   "id": "2a930d69-0c68-4d07-a619-dd2899e54074",
   "metadata": {},
   "source": [
    "\n",
    "  \" Process Text with SpaCy\"   \n",
    "  "
   ]
  },
  {
   "cell_type": "code",
   "execution_count": 41,
   "id": "ead28933-432c-4d63-8964-d1263f82a637",
   "metadata": {},
   "outputs": [
    {
     "name": "stdout",
     "output_type": "stream",
     "text": [
      "['Hale', 'stated', 'Space', 'Shuttle', 'remains', '“', 'largest', 'fastest', 'winged', 'hypersonic', 'aircraft', 'history', '”', 'having', 'regularly', 'flown', 'times', 'speed', 'sound']\n"
     ]
    }
   ],
   "source": [
    "from heapq import nlargest\n",
    "\n",
    "# Токенізація\n",
    "doc = nlp(text)\n",
    "\n",
    "punctuation += '\\n'\n",
    "\n",
    "filtered_sentences = []\n",
    "for sent in doc.sents:\n",
    "    filtered_words = [token.text for token in sent if token.text not in punctuation and not token.is_stop]\n",
    "    filtered_sentences.append(filtered_words)\n",
    "\n",
    "print(filtered_words)"
   ]
  },
  {
   "cell_type": "code",
   "execution_count": 42,
   "id": "88e6646b-a58e-4605-8526-f9b1630bc53d",
   "metadata": {},
   "outputs": [],
   "source": [
    "sentence_scores = {}\n",
    "for sent, filtered_words in zip(doc.sents, filtered_sentences):\n",
    "    # Scoring: Count of filtered words in the sentence\n",
    "    score = len(filtered_words)\n",
    "    sentence_scores[sent.text] = score"
   ]
  },
  {
   "cell_type": "code",
   "execution_count": 43,
   "id": "379a4d9b-e9db-4b9b-b8df-efbf1f64f5f8",
   "metadata": {},
   "outputs": [
    {
     "name": "stdout",
     "output_type": "stream",
     "text": [
      "Summary:\n",
      " \n",
      "The Orbiter Discovery, OV-103, is considered eligible for listing in the National Register of Historic Places (NRHP) in the context of the U.S. Space Shuttle Program (1969-2011) under Criterion A in the areas of Space Exploration and Transportation and under Criterion C in the area of Engineering. According to Wayne Hale, a flight director from Johnson Space Center, the Space Shuttle orbiter represents a “huge technological leap from expendable rockets and capsules to a reusable, winged, hypersonic, cargo-carrying spacecraft.” Although her base structure followed a conventional aircraft design, she used advanced materials that both minimized her weight for cargo-carrying purposes and featured low thermal expansion ratios, which provided a stable base for her Thermal Protection System (TPS) materials. Under Criterion A, Discovery is significant as the oldest of the three extant orbiter vehicles constructed for the Space Shuttle Program (SSP), the longest running American space program to date; she was the third of five orbiters built by NASA. In addition, Discovery was vital to the construction of the International Space Station (ISS); she flew thirteen of the thirty-seven total missions flown to the station by a U.S. Space Shuttle.\n"
     ]
    }
   ],
   "source": [
    "N = 5  # Кількість речень у summary\n",
    "top_sentences = nlargest(N, sentence_scores, key=sentence_scores.get)\n",
    "\n",
    "summary = ' '.join(top_sentences)\n",
    "print(\"Summary:\\n\", summary)\n"
   ]
  },
  {
   "cell_type": "code",
   "execution_count": 44,
   "id": "65914f35-b475-458f-9f24-c3cd7bf7eabb",
   "metadata": {},
   "outputs": [
    {
     "data": {
      "text/plain": [
       "\"\\nProcess: This method directly extracts the 'n' largest elements based on their scores without sorting the entire list.\\nEfficiency: nlargest is more efficient than sorting the entire list, especially when the list is large, but you need only a few elements from it. This is because nlargest uses a heap data structure internally, which is optimized for such operations.\\nUse Case: Best for larger datasets where extracting a few elements from a large list is required.\\n\""
      ]
     },
     "execution_count": 44,
     "metadata": {},
     "output_type": "execute_result"
    }
   ],
   "source": [
    "\"\"\"\n",
    "Process: This method directly extracts the 'n' largest elements based on their scores without sorting the entire list.\n",
    "Efficiency: nlargest is more efficient than sorting the entire list, especially when the list is large, but you need only a few elements from it. This is because nlargest uses a heap data structure internally, which is optimized for such operations.\n",
    "Use Case: Best for larger datasets where extracting a few elements from a large list is required.\n",
    "\"\"\""
   ]
  },
  {
   "cell_type": "code",
   "execution_count": null,
   "id": "d9d206e6-868d-4986-85f2-e4415cb77404",
   "metadata": {},
   "outputs": [],
   "source": []
  }
 ],
 "metadata": {
  "kernelspec": {
   "display_name": "Python 3 (ipykernel)",
   "language": "python",
   "name": "python3"
  },
  "language_info": {
   "codemirror_mode": {
    "name": "ipython",
    "version": 3
   },
   "file_extension": ".py",
   "mimetype": "text/x-python",
   "name": "python",
   "nbconvert_exporter": "python",
   "pygments_lexer": "ipython3",
   "version": "3.10.11"
  }
 },
 "nbformat": 4,
 "nbformat_minor": 5
}
