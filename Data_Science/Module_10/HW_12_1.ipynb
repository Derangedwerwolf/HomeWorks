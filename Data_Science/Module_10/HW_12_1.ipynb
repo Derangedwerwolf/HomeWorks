{
 "cells": [
  {
   "cell_type": "code",
   "execution_count": 3,
   "id": "c49792ee-f4b1-4a14-aedc-2abbea638ab3",
   "metadata": {},
   "outputs": [],
   "source": [
    "import numpy as np\n",
    "\n",
    "from sklearn.model_selection import train_test_split\n",
    "from tensorflow.keras.models import Sequential\n",
    "from tensorflow.keras.layers import Dense, Flatten\n",
    "from tensorflow.keras.layers import Dropout\n",
    "from tensorflow.keras.optimizers import Adam\n",
    "from tensorflow.keras.callbacks import ModelCheckpoint\n",
    "from tensorflow.keras.callbacks import EarlyStopping\n",
    "from tensorflow.keras.callbacks import ReduceLROnPlateau\n",
    "\n",
    "from tensorflow.keras.datasets import fashion_mnist"
   ]
  },
  {
   "cell_type": "code",
   "execution_count": 4,
   "id": "af63b83c-688e-43e4-a2e3-be1c325f355c",
   "metadata": {},
   "outputs": [],
   "source": [
    "# Створення зворотного виклику для чекпойнтів\n",
    "checkpoint_cb = ModelCheckpoint(\"fashion_mnist_model2.h5\",  # Шлях до файлу, де буде збережена модель\n",
    "                                save_best_only=True)  # Зберігає тільки ту модель, яка має найкращу точність на валідації\n",
    "\"\"\"\n",
    "Як альтернатива\n",
    "import os\n",
    "\n",
    "checkpoint_dir = \"./checkpoints\"  # Вкажіть шлях до папки чекпойнтів\n",
    "if not os.path.exists(checkpoint_dir):\n",
    "    os.makedirs(checkpoint_dir)\n",
    "\n",
    "checkpoint_path = os.path.join(checkpoint_dir, \"model_{epoch:02d}-{val_loss:.2f}.h5\")\n",
    "checkpoint_cb = ModelCheckpoint(checkpoint_path, save_best_only=True)\n",
    "\"\"\"\n",
    "\n",
    "# Завантаження датасету fashion_mnist\n",
    "(x_train, y_train), (x_test, y_test) = fashion_mnist.load_data()\n",
    "\n",
    "# розділяємо тренувальний набір на тренувальний та валідаційний набори\n",
    "x_train, x_val, y_train, y_val = train_test_split(x_train, y_train, test_size=0.2)\n",
    "\n",
    "x_train = x_train.astype('float32') / 255.0\n",
    "x_val = x_val.astype('float32') / 255.0\n",
    "x_test = x_test.astype('float32') / 255.0\n",
    "# y_train, y_val, y_test не потребують нормалізації\n",
    "\n",
    "# Визначення кількості унікальних міток у тренувальному наборі\n",
    "num_classes = len(np.unique(y_train))\n"
   ]
  },
  {
   "cell_type": "code",
   "execution_count": 5,
   "id": "5ded57d0-fb79-44a3-9fcb-8878d2a9c51d",
   "metadata": {},
   "outputs": [
    {
     "data": {
      "text/plain": [
       "'\\nАле він ламає чекпоінти\\n'"
      ]
     },
     "execution_count": 5,
     "metadata": {},
     "output_type": "execute_result"
    }
   ],
   "source": [
    "from tensorflow.keras.layers import Layer\n",
    "import tensorflow as tf\n",
    "\n",
    "class DropConnectDense(Layer):\n",
    "    def __init__(self, units, activation=None, drop_prob=0.5, **kwargs):\n",
    "        super(DropConnectDense, self).__init__(**kwargs)\n",
    "        self.units = units\n",
    "        self.activation = tf.keras.activations.get(activation)\n",
    "        self.drop_prob = drop_prob\n",
    "\n",
    "    def build(self, input_shape):\n",
    "        self.w = self.add_weight(shape=(input_shape[-1], self.units),\n",
    "                                 initializer='random_normal',\n",
    "                                 trainable=True)\n",
    "        self.b = self.add_weight(shape=(self.units,),\n",
    "                                 initializer='zeros',\n",
    "                                 trainable=True)\n",
    "\n",
    "    def call(self, inputs, training=None):\n",
    "        if training:\n",
    "            drop_mask = tf.nn.dropout(tf.ones_like(self.w), rate=self.drop_prob)\n",
    "            w = tf.multiply(self.w, drop_mask)\n",
    "        else:\n",
    "            w = self.w\n",
    "        z = tf.matmul(inputs, w) + self.b\n",
    "        return self.activation(z)\n",
    "\n",
    "\"\"\"\n",
    "Але він ламає чекпоінти\n",
    "\"\"\""
   ]
  },
  {
   "cell_type": "code",
   "execution_count": 6,
   "id": "d7348403-ddff-411c-b697-5f524a9ded18",
   "metadata": {},
   "outputs": [
    {
     "ename": "NameError",
     "evalue": "name 'additional_epochs' is not defined",
     "output_type": "error",
     "traceback": [
      "\u001b[1;31m---------------------------------------------------------------------------\u001b[0m",
      "\u001b[1;31mNameError\u001b[0m                                 Traceback (most recent call last)",
      "Cell \u001b[1;32mIn[6], line 7\u001b[0m\n\u001b[0;32m      3\u001b[0m model \u001b[38;5;241m=\u001b[39m load_model(\u001b[38;5;124m\"\u001b[39m\u001b[38;5;124mfashion_mnist_model.h5\u001b[39m\u001b[38;5;124m\"\u001b[39m)\n\u001b[0;32m      5\u001b[0m \u001b[38;5;66;03m# Продовження тренування\u001b[39;00m\n\u001b[0;32m      6\u001b[0m additional_history \u001b[38;5;241m=\u001b[39m model\u001b[38;5;241m.\u001b[39mfit(x_train, y_train, \n\u001b[1;32m----> 7\u001b[0m                                epochs\u001b[38;5;241m=\u001b[39m\u001b[43madditional_epochs\u001b[49m,  \u001b[38;5;66;03m# загальна кількість епох, включаючи попередні\u001b[39;00m\n\u001b[0;32m      8\u001b[0m                                batch_size\u001b[38;5;241m=\u001b[39m\u001b[38;5;241m64\u001b[39m,\n\u001b[0;32m      9\u001b[0m                                validation_data\u001b[38;5;241m=\u001b[39m(x_val, y_val),\n\u001b[0;32m     10\u001b[0m                                callbacks\u001b[38;5;241m=\u001b[39m[checkpoint_cb])\n",
      "\u001b[1;31mNameError\u001b[0m: name 'additional_epochs' is not defined"
     ]
    }
   ],
   "source": [
    "from tensorflow.keras.models import load_model\n",
    "\n",
    "model = load_model(\"fashion_mnist_model.h5\")\n",
    "\n",
    "# Продовження тренування\n",
    "additional_history = model.fit(x_train, y_train, \n",
    "                               epochs=additional_epochs,  # загальна кількість епох, включаючи попередні\n",
    "                               batch_size=64,\n",
    "                               validation_data=(x_val, y_val),\n",
    "                               callbacks=[checkpoint_cb])"
   ]
  },
  {
   "cell_type": "code",
   "execution_count": 7,
   "id": "066795bf-f4ec-483d-82df-fba3a3afd6d0",
   "metadata": {},
   "outputs": [],
   "source": [
    "from tensorflow.keras.callbacks import ReduceLROnPlateau, ModelCheckpoint, EarlyStopping\n",
    "\n",
    "# Створення зворотних викликів\n",
    "reduce_lr = ReduceLROnPlateau(monitor='val_loss', factor=0.1, patience=3, min_lr=0.00001, verbose=1)\n",
    "checkpoint_cb = ModelCheckpoint(\"model_checkpoint.h5\", save_best_only=True)\n",
    "early_stopping_cb = EarlyStopping(patience=5, restore_best_weights=True)\n",
    "\n",
    "# Розширення вимірів тренувальних та валідаційних даних\n",
    "x_train_expanded = np.expand_dims(x_train, axis=-1)  # Додавання виміру каналу\n",
    "x_val_expanded = np.expand_dims(x_val, axis=-1)\n"
   ]
  },
  {
   "cell_type": "code",
   "execution_count": 9,
   "id": "d58e888b",
   "metadata": {},
   "outputs": [
    {
     "name": "stdout",
     "output_type": "stream",
     "text": [
      "x_train shape: (48000, 28, 28)\n",
      "x_val shape: (12000, 28, 28)\n",
      "x_test shape: (10000, 28, 28)\n"
     ]
    }
   ],
   "source": [
    "print(f\"x_train shape: {x_train.shape}\")\n",
    "print(f\"x_val shape: {x_val.shape}\")\n",
    "print(f\"x_test shape: {x_test.shape}\")"
   ]
  },
  {
   "cell_type": "code",
   "execution_count": 23,
   "id": "c581d3e9-2e60-4c17-8167-880efa1bbb7b",
   "metadata": {},
   "outputs": [],
   "source": [
    "from tensorflow.keras.preprocessing.image import ImageDataGenerator\n",
    "\n",
    "datagen = ImageDataGenerator(\n",
    "    rotation_range=20,\n",
    "    width_shift_range=0.2,\n",
    "    height_shift_range=0.2,\n",
    "    shear_range=0.2,\n",
    "    zoom_range=0.2,\n",
    "    horizontal_flip=True,\n",
    "    fill_mode='nearest'\n",
    ")"
   ]
  },
  {
   "cell_type": "code",
   "execution_count": 27,
   "id": "5d958166-99aa-4d39-b147-a920ebe47fba",
   "metadata": {},
   "outputs": [],
   "source": [
    "from tensorflow.keras.models import Sequential\n",
    "from tensorflow.keras.layers import Conv2D, MaxPooling2D, Flatten, Dense, Dropout\n",
    "from tensorflow.keras.layers import BatchNormalization\n",
    "from tensorflow.keras.regularizers import l1, l2\n",
    "from tensorflow.keras.layers import PReLU\n",
    "\n",
    "from tensorflow.keras.optimizers import RMSprop\n",
    "\n",
    "model = Sequential([\n",
    "    Conv2D(32, kernel_size=(3, 3), input_shape=(28, 28, 1), strides=(1, 1), padding='same', name='conv2d_1'),\n",
    "    BatchNormalization(),\n",
    "    PReLU(name='prelu_1'),\n",
    "\n",
    "    #MaxPooling2D(pool_size=(2, 2)),\n",
    "\n",
    "    Conv2D(64, kernel_size=(5, 5), strides=(1, 1), padding='same', name='conv2d_2'),\n",
    "    BatchNormalization(),\n",
    "    PReLU(name='prelu_2'),\n",
    "\n",
    "    MaxPooling2D(pool_size=(2, 2)),\n",
    "    \n",
    "    Conv2D(128, kernel_size=(5, 5), strides=(1, 1), padding='same', name='conv2d_3'),\n",
    "    BatchNormalization(),\n",
    "    PReLU(name='prelu_3'),\n",
    "    #Dropout(0.35, name='dropout_0'),\n",
    "    \n",
    "    Flatten(name='flatten'),\n",
    "    Dropout(0.4, name='dropout'),\n",
    "\n",
    "    Dense(128, name='dense_1'),\n",
    "    PReLU(name='prelu_4'),\n",
    "    Dense(num_classes, activation='softmax', name='output')\n",
    "])\n",
    "\n",
    "model.compile(optimizer=Adam(learning_rate=0.001, beta_1=0.9, beta_2=0.999, epsilon=1e-07), \n",
    "              loss='sparse_categorical_crossentropy', \n",
    "              metrics=['accuracy'])\n",
    "\n",
    "# model.compile(optimizer=RMSprop(learning_rate=0.001, rho=0.9, momentum=0.0, epsilon=1e-07), \n",
    "#               loss='sparse_categorical_crossentropy', \n",
    "#               metrics=['accuracy'])"
   ]
  },
  {
   "cell_type": "code",
   "execution_count": 25,
   "id": "10e9c2e0-49f1-4ca4-82e2-e0442e4cfc77",
   "metadata": {},
   "outputs": [
    {
     "name": "stdout",
     "output_type": "stream",
     "text": [
      "Model: \"sequential_3\"\n",
      "_________________________________________________________________\n",
      " Layer (type)                Output Shape              Param #   \n",
      "=================================================================\n",
      " conv2d_1 (Conv2D)           (None, 28, 28, 32)        320       \n",
      "                                                                 \n",
      " batch_normalization_15 (Ba  (None, 28, 28, 32)        128       \n",
      " tchNormalization)                                               \n",
      "                                                                 \n",
      " prelu_1 (PReLU)             (None, 28, 28, 32)        25088     \n",
      "                                                                 \n",
      " conv2d_2 (Conv2D)           (None, 28, 28, 64)        51264     \n",
      "                                                                 \n",
      " batch_normalization_16 (Ba  (None, 28, 28, 64)        256       \n",
      " tchNormalization)                                               \n",
      "                                                                 \n",
      " prelu_2 (PReLU)             (None, 28, 28, 64)        50176     \n",
      "                                                                 \n",
      " max_pooling2d_8 (MaxPoolin  (None, 14, 14, 64)        0         \n",
      " g2D)                                                            \n",
      "                                                                 \n",
      " conv2d_3 (Conv2D)           (None, 14, 14, 128)       204928    \n",
      "                                                                 \n",
      " batch_normalization_17 (Ba  (None, 14, 14, 128)       512       \n",
      " tchNormalization)                                               \n",
      "                                                                 \n",
      " prelu_3 (PReLU)             (None, 14, 14, 128)       25088     \n",
      "                                                                 \n",
      " dropout_0 (Dropout)         (None, 14, 14, 128)       0         \n",
      "                                                                 \n",
      " flatten (Flatten)           (None, 25088)             0         \n",
      "                                                                 \n",
      " dropout (Dropout)           (None, 25088)             0         \n",
      "                                                                 \n",
      " dense_1 (Dense)             (None, 128)               3211392   \n",
      "                                                                 \n",
      " prelu_4 (PReLU)             (None, 128)               128       \n",
      "                                                                 \n",
      " output (Dense)              (None, 10)                1290      \n",
      "                                                                 \n",
      "=================================================================\n",
      "Total params: 3570570 (13.62 MB)\n",
      "Trainable params: 3570122 (13.62 MB)\n",
      "Non-trainable params: 448 (1.75 KB)\n",
      "_________________________________________________________________\n"
     ]
    }
   ],
   "source": [
    "# Перегляд структури моделі\n",
    "model.summary()"
   ]
  },
  {
   "cell_type": "code",
   "execution_count": 21,
   "id": "7cb28298-75fd-4fb1-be49-8fd70ddc8e3d",
   "metadata": {},
   "outputs": [
    {
     "name": "stdout",
     "output_type": "stream",
     "text": [
      "Epoch 1/35\n",
      "WARNING:tensorflow:From C:\\Users\\XMG\\AppData\\Local\\Packages\\PythonSoftwareFoundation.Python.3.10_qbz5n2kfra8p0\\LocalCache\\local-packages\\Python310\\site-packages\\keras\\src\\utils\\tf_utils.py:492: The name tf.ragged.RaggedTensorValue is deprecated. Please use tf.compat.v1.ragged.RaggedTensorValue instead.\n",
      "\n",
      "WARNING:tensorflow:From C:\\Users\\XMG\\AppData\\Local\\Packages\\PythonSoftwareFoundation.Python.3.10_qbz5n2kfra8p0\\LocalCache\\local-packages\\Python310\\site-packages\\keras\\src\\engine\\base_layer_utils.py:384: The name tf.executing_eagerly_outside_functions is deprecated. Please use tf.compat.v1.executing_eagerly_outside_functions instead.\n",
      "\n",
      "2000/2000 [==============================] - 129s 64ms/step - loss: 0.8838 - accuracy: 0.6810 - val_loss: 0.5319 - val_accuracy: 0.7992 - lr: 0.0010\n",
      "Epoch 2/35\n"
     ]
    },
    {
     "name": "stderr",
     "output_type": "stream",
     "text": [
      "C:\\Users\\XMG\\AppData\\Local\\Packages\\PythonSoftwareFoundation.Python.3.10_qbz5n2kfra8p0\\LocalCache\\local-packages\\Python310\\site-packages\\keras\\src\\engine\\training.py:3103: UserWarning: You are saving your model as an HDF5 file via `model.save()`. This file format is considered legacy. We recommend using instead the native Keras format, e.g. `model.save('my_model.keras')`.\n",
      "  saving_api.save_model(\n"
     ]
    },
    {
     "name": "stdout",
     "output_type": "stream",
     "text": [
      "2000/2000 [==============================] - 128s 64ms/step - loss: 0.5898 - accuracy: 0.7794 - val_loss: 0.3768 - val_accuracy: 0.8613 - lr: 0.0010\n",
      "Epoch 3/35\n",
      "2000/2000 [==============================] - 129s 64ms/step - loss: 0.4893 - accuracy: 0.8207 - val_loss: 0.3630 - val_accuracy: 0.8666 - lr: 0.0010\n",
      "Epoch 4/35\n",
      "2000/2000 [==============================] - 128s 64ms/step - loss: 0.4284 - accuracy: 0.8426 - val_loss: 0.4024 - val_accuracy: 0.8602 - lr: 0.0010\n",
      "Epoch 5/35\n",
      "2000/2000 [==============================] - 132s 66ms/step - loss: 0.3973 - accuracy: 0.8549 - val_loss: 0.2931 - val_accuracy: 0.8916 - lr: 0.0010\n",
      "Epoch 6/35\n",
      "2000/2000 [==============================] - 128s 64ms/step - loss: 0.3810 - accuracy: 0.8627 - val_loss: 0.3169 - val_accuracy: 0.8906 - lr: 0.0010\n",
      "Epoch 7/35\n",
      "2000/2000 [==============================] - 131s 66ms/step - loss: 0.3666 - accuracy: 0.8676 - val_loss: 0.2750 - val_accuracy: 0.9001 - lr: 0.0010\n",
      "Epoch 8/35\n",
      "2000/2000 [==============================] - 127s 63ms/step - loss: 0.3486 - accuracy: 0.8731 - val_loss: 0.2711 - val_accuracy: 0.9041 - lr: 0.0010\n",
      "Epoch 9/35\n",
      "2000/2000 [==============================] - 130s 65ms/step - loss: 0.3379 - accuracy: 0.8769 - val_loss: 0.3316 - val_accuracy: 0.8788 - lr: 0.0010\n",
      "Epoch 10/35\n",
      "2000/2000 [==============================] - 137s 69ms/step - loss: 0.3346 - accuracy: 0.8797 - val_loss: 0.2698 - val_accuracy: 0.9044 - lr: 0.0010\n",
      "Epoch 11/35\n",
      "2000/2000 [==============================] - 135s 68ms/step - loss: 0.3282 - accuracy: 0.8799 - val_loss: 0.2890 - val_accuracy: 0.8933 - lr: 0.0010\n",
      "Epoch 12/35\n",
      "2000/2000 [==============================] - 134s 67ms/step - loss: 0.3169 - accuracy: 0.8847 - val_loss: 0.2784 - val_accuracy: 0.8950 - lr: 0.0010\n",
      "Epoch 13/35\n",
      "1999/2000 [============================>.] - ETA: 0s - loss: 0.3116 - accuracy: 0.8882\n",
      "Epoch 13: ReduceLROnPlateau reducing learning rate to 0.00010000000474974513.\n",
      "2000/2000 [==============================] - 129s 64ms/step - loss: 0.3117 - accuracy: 0.8881 - val_loss: 0.2854 - val_accuracy: 0.8953 - lr: 0.0010\n",
      "Epoch 14/35\n",
      "2000/2000 [==============================] - 130s 65ms/step - loss: 0.2687 - accuracy: 0.9016 - val_loss: 0.2330 - val_accuracy: 0.9171 - lr: 1.0000e-04\n",
      "Epoch 15/35\n",
      "2000/2000 [==============================] - 135s 67ms/step - loss: 0.2579 - accuracy: 0.9069 - val_loss: 0.2194 - val_accuracy: 0.9224 - lr: 1.0000e-04\n",
      "Epoch 16/35\n",
      "2000/2000 [==============================] - 132s 66ms/step - loss: 0.2514 - accuracy: 0.9091 - val_loss: 0.2243 - val_accuracy: 0.9217 - lr: 1.0000e-04\n",
      "Epoch 17/35\n",
      "2000/2000 [==============================] - 135s 67ms/step - loss: 0.2458 - accuracy: 0.9101 - val_loss: 0.2179 - val_accuracy: 0.9236 - lr: 1.0000e-04\n",
      "Epoch 18/35\n",
      "2000/2000 [==============================] - 132s 66ms/step - loss: 0.2407 - accuracy: 0.9125 - val_loss: 0.2301 - val_accuracy: 0.9194 - lr: 1.0000e-04\n",
      "Epoch 19/35\n",
      "2000/2000 [==============================] - 130s 65ms/step - loss: 0.2425 - accuracy: 0.9137 - val_loss: 0.2269 - val_accuracy: 0.9187 - lr: 1.0000e-04\n",
      "Epoch 20/35\n",
      "2000/2000 [==============================] - 132s 66ms/step - loss: 0.2392 - accuracy: 0.9137 - val_loss: 0.2167 - val_accuracy: 0.9230 - lr: 1.0000e-04\n",
      "Epoch 21/35\n",
      "2000/2000 [==============================] - 131s 66ms/step - loss: 0.2360 - accuracy: 0.9154 - val_loss: 0.2166 - val_accuracy: 0.9247 - lr: 1.0000e-04\n",
      "Epoch 22/35\n",
      "2000/2000 [==============================] - 143s 71ms/step - loss: 0.2332 - accuracy: 0.9165 - val_loss: 0.2215 - val_accuracy: 0.9211 - lr: 1.0000e-04\n",
      "Epoch 23/35\n",
      "2000/2000 [==============================] - 145s 72ms/step - loss: 0.2346 - accuracy: 0.9155 - val_loss: 0.2146 - val_accuracy: 0.9261 - lr: 1.0000e-04\n",
      "Epoch 24/35\n",
      "2000/2000 [==============================] - 138s 69ms/step - loss: 0.2300 - accuracy: 0.9181 - val_loss: 0.2156 - val_accuracy: 0.9247 - lr: 1.0000e-04\n",
      "Epoch 25/35\n",
      "2000/2000 [==============================] - 137s 68ms/step - loss: 0.2318 - accuracy: 0.9164 - val_loss: 0.2149 - val_accuracy: 0.9240 - lr: 1.0000e-04\n",
      "Epoch 26/35\n",
      "2000/2000 [==============================] - 141s 70ms/step - loss: 0.2291 - accuracy: 0.9171 - val_loss: 0.2121 - val_accuracy: 0.9248 - lr: 1.0000e-04\n",
      "Epoch 27/35\n",
      "2000/2000 [==============================] - 133s 66ms/step - loss: 0.2270 - accuracy: 0.9186 - val_loss: 0.2154 - val_accuracy: 0.9245 - lr: 1.0000e-04\n",
      "Epoch 28/35\n",
      "2000/2000 [==============================] - 130s 65ms/step - loss: 0.2246 - accuracy: 0.9181 - val_loss: 0.2281 - val_accuracy: 0.9205 - lr: 1.0000e-04\n",
      "Epoch 29/35\n",
      "2000/2000 [==============================] - ETA: 0s - loss: 0.2255 - accuracy: 0.9175\n",
      "Epoch 29: ReduceLROnPlateau reducing learning rate to 1.0000000474974514e-05.\n",
      "2000/2000 [==============================] - 136s 68ms/step - loss: 0.2255 - accuracy: 0.9175 - val_loss: 0.2182 - val_accuracy: 0.9227 - lr: 1.0000e-04\n",
      "Epoch 30/35\n",
      "2000/2000 [==============================] - 135s 68ms/step - loss: 0.2203 - accuracy: 0.9196 - val_loss: 0.2180 - val_accuracy: 0.9228 - lr: 1.0000e-05\n",
      "Epoch 31/35\n",
      "2000/2000 [==============================] - 133s 66ms/step - loss: 0.2160 - accuracy: 0.9203 - val_loss: 0.2209 - val_accuracy: 0.9224 - lr: 1.0000e-05\n"
     ]
    }
   ],
   "source": [
    "# Тренування моделі з додаванням зворотних викликів\n",
    "history = model.fit(datagen.flow(x_train_expanded, y_train, batch_size=24),\n",
    "    epochs=35,\n",
    "    #batch_size=64,\n",
    "    validation_data=(x_val, y_val),\n",
    "    callbacks=[checkpoint_cb, early_stopping_cb, reduce_lr]  # Додавання всіх зворотних викликів тут\n",
    ")"
   ]
  },
  {
   "cell_type": "code",
   "execution_count": 22,
   "id": "d4da1e61-4672-48d0-9d98-47ebf174f355",
   "metadata": {},
   "outputs": [
    {
     "data": {
      "image/png": "[encoded data removed]",
      "text/plain": [
       "<Figure size 1200x400 with 2 Axes>"
      ]
     },
     "metadata": {},
     "output_type": "display_data"
    }
   ],
   "source": [
    "import matplotlib.pyplot as plt\n",
    "\n",
    "# Графік точності\n",
    "plt.figure(figsize=(12, 4))\n",
    "plt.subplot(1, 2, 1)\n",
    "plt.plot(history.history['accuracy'], label='Точність на тренуванні')\n",
    "plt.plot(history.history['val_accuracy'], label='Точність на валідації')\n",
    "plt.title('Точність моделі')\n",
    "plt.xlabel('Епоха')\n",
    "plt.ylabel('Точність')\n",
    "plt.legend()\n",
    "\n",
    "# Графік втрат\n",
    "plt.subplot(1, 2, 2)\n",
    "plt.plot(history.history['loss'], label='Втрати на тренуванні')\n",
    "plt.plot(history.history['val_loss'], label='Втрати на валідації')\n",
    "plt.title('Втрати моделі')\n",
    "plt.xlabel('Епоха')\n",
    "plt.ylabel('Втрати')\n",
    "plt.legend()\n",
    "\n",
    "plt.show()"
   ]
  },
  {
   "cell_type": "code",
   "execution_count": null,
   "id": "6983027a-85a0-42ab-982f-dfb18a3a3955",
   "metadata": {},
   "outputs": [],
   "source": []
  }
 ],
 "metadata": {
  "kernelspec": {
   "display_name": "Python 3 (ipykernel)",
   "language": "python",
   "name": "python3"
  },
  "language_info": {
   "codemirror_mode": {
    "name": "ipython",
    "version": 3
   },
   "file_extension": ".py",
   "mimetype": "text/x-python",
   "name": "python",
   "nbconvert_exporter": "python",
   "pygments_lexer": "ipython3",
   "version": "3.10.11"
  }
 },
 "nbformat": 4,
 "nbformat_minor": 5
}
