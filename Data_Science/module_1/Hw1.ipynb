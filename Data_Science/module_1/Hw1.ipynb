{
 "cells": [
  {
   "cell_type": "code",
   "execution_count": 1,
   "id": "59d6ce88-515e-477c-a839-67e6e1ded022",
   "metadata": {},
   "outputs": [],
   "source": [
    "import numpy as np"
   ]
  },
  {
   "cell_type": "code",
   "execution_count": 4,
   "id": "f29a9f26-050f-429d-9494-6b6f50816907",
   "metadata": {},
   "outputs": [
    {
     "data": {
      "text/plain": [
       "'\\nСтворіть одновимірний масив (вектор) з першими 10-ма натуральними числами \\nта виведіть його значення.\\n'"
      ]
     },
     "execution_count": 4,
     "metadata": {},
     "output_type": "execute_result"
    }
   ],
   "source": [
    "\"\"\"\n",
    "Створіть одновимірний масив (вектор) з першими 10-ма натуральними числами \n",
    "та виведіть його значення.\n",
    "\"\"\""
   ]
  },
  {
   "cell_type": "code",
   "execution_count": 5,
   "id": "11aaf255-bd01-41b8-aef4-cae820e252de",
   "metadata": {},
   "outputs": [
    {
     "name": "stdout",
     "output_type": "stream",
     "text": [
      "[1 2 3 4 5]\n",
      "\n"
     ]
    }
   ],
   "source": [
    "A = np.array([1, 2, 3, 4, 5])\n",
    "print(A)\n",
    "print()"
   ]
  },
  {
   "cell_type": "code",
   "execution_count": 6,
   "id": "31c1ce75-5e1f-4e11-ad04-1f72d012c70e",
   "metadata": {},
   "outputs": [
    {
     "data": {
      "text/plain": [
       "'\\nСтворіть двовимірний масив (матрицю) розміром 3x3, заповніть \\nйого нулями та виведіть його значення.\\n'"
      ]
     },
     "execution_count": 6,
     "metadata": {},
     "output_type": "execute_result"
    }
   ],
   "source": [
    "\"\"\"\n",
    "Створіть двовимірний масив (матрицю) розміром 3x3, заповніть \n",
    "його нулями та виведіть його значення.\n",
    "\"\"\""
   ]
  },
  {
   "cell_type": "code",
   "execution_count": 7,
   "id": "19e117da-b360-45b2-bcbc-df68dd30576e",
   "metadata": {},
   "outputs": [
    {
     "name": "stdout",
     "output_type": "stream",
     "text": [
      "[[0 0 0]\n",
      " [0 0 0]]\n",
      "\n"
     ]
    }
   ],
   "source": [
    "M = np.zeros((2, 3), dtype=int)\n",
    "print(M)\n",
    "print()"
   ]
  },
  {
   "cell_type": "code",
   "execution_count": 8,
   "id": "2be9c04b-0ba7-48bd-9c8f-1c35f67ba46e",
   "metadata": {},
   "outputs": [
    {
     "data": {
      "text/plain": [
       "'\\nСтворіть масив розміром 5x5, заповніть його випадковими цілими числами \\nв діапазоні від 1 до 10 та виведіть його значення.\\n'"
      ]
     },
     "execution_count": 8,
     "metadata": {},
     "output_type": "execute_result"
    }
   ],
   "source": [
    "\"\"\"\n",
    "Створіть масив розміром 5x5, заповніть його випадковими цілими числами \n",
    "в діапазоні від 1 до 10 та виведіть його значення.\n",
    "\"\"\""
   ]
  },
  {
   "cell_type": "code",
   "execution_count": 9,
   "id": "b7123630-59d0-4de9-afbe-a4235df8429e",
   "metadata": {},
   "outputs": [
    {
     "name": "stdout",
     "output_type": "stream",
     "text": [
      "[[7 2 0 3 2]\n",
      " [0 4 5 5 7]\n",
      " [2 7 8 1 2]\n",
      " [7 5 8 1 6]\n",
      " [0 9 7 6 4]]\n",
      "\n"
     ]
    }
   ],
   "source": [
    "M2 = np.random.randint(0, 10, size=(5, 5))\n",
    "print(M2)\n",
    "print()"
   ]
  },
  {
   "cell_type": "code",
   "execution_count": 10,
   "id": "16940845-e14d-47b4-9241-a27aa163b703",
   "metadata": {},
   "outputs": [
    {
     "data": {
      "text/plain": [
       "'\\nСтворіть масив розміром 4x4, заповніть його випадковими дійсними числами \\nв діапазоні від 0 до 1 та виведіть його значення.\\n'"
      ]
     },
     "execution_count": 10,
     "metadata": {},
     "output_type": "execute_result"
    }
   ],
   "source": [
    "\"\"\"\n",
    "Створіть масив розміром 4x4, заповніть його випадковими дійсними числами \n",
    "в діапазоні від 0 до 1 та виведіть його значення.\n",
    "\"\"\""
   ]
  },
  {
   "cell_type": "code",
   "execution_count": 11,
   "id": "ae897e97-d111-4e87-a1e0-4e2e19869617",
   "metadata": {},
   "outputs": [
    {
     "name": "stdout",
     "output_type": "stream",
     "text": [
      "[[0.70257839 0.02854623 0.71338725 0.50355821]\n",
      " [0.0759505  0.21672281 0.31295423 0.17393393]\n",
      " [0.03393328 0.13176613 0.26187238 0.76277906]\n",
      " [0.11812909 0.87293205 0.2565089  0.42697998]]\n",
      "\n"
     ]
    }
   ],
   "source": [
    "M3 = np.random.random(size=(4, 4))\n",
    "print(M3)\n",
    "print()"
   ]
  },
  {
   "cell_type": "code",
   "execution_count": 12,
   "id": "0b3ca22a-759c-45a0-a22c-a2e37552c055",
   "metadata": {},
   "outputs": [
    {
     "data": {
      "text/plain": [
       "'\\nСтворіть два одновимірних масиви розміром 5, заповніть їх випадковими цілими \\nчислами в діапазоні від 1 до 10 та виконайте на них поелементні операції додавання, \\nвіднімання та множення.\\n'"
      ]
     },
     "execution_count": 12,
     "metadata": {},
     "output_type": "execute_result"
    }
   ],
   "source": [
    "\"\"\"\n",
    "Створіть два одновимірних масиви розміром 5, заповніть їх випадковими цілими \n",
    "числами в діапазоні від 1 до 10 та виконайте на них поелементні операції додавання, \n",
    "віднімання та множення.\n",
    "\"\"\""
   ]
  },
  {
   "cell_type": "code",
   "execution_count": 13,
   "id": "6dc08678-9aba-4954-ad02-ef40065093de",
   "metadata": {},
   "outputs": [
    {
     "name": "stdout",
     "output_type": "stream",
     "text": [
      "Array 1:  3  6  7  1  6\n",
      "Array 2:  4 10  2  9  4\n",
      "Addition: [ 7 16  9 10 10]\n",
      "Subtraction: [-1 -4  5 -8  2]\n",
      "Multiplication: [12 60 14  9 24]\n"
     ]
    }
   ],
   "source": [
    "a = np.random.randint(1, 11, size=5)\n",
    "b = np.random.randint(1, 11, size=5)\n",
    "\n",
    "print(f\"Array 1: {' '.join([f'{x:2d}' for x in a])}\")\n",
    "print(f\"Array 2: {' '.join([f'{x:2d}' for x in b])}\")\n",
    "\n",
    "# Поелементне додавання\n",
    "add = a + b\n",
    "print(f\"Addition: {add}\")\n",
    "\n",
    "# Поелементне віднімання\n",
    "sub = a - b\n",
    "print(f\"Subtraction: {sub}\")\n",
    "\n",
    "\n",
    "# Поелементне множення\n",
    "mult = a * b\n",
    "print(f\"Multiplication: {mult}\")"
   ]
  },
  {
   "cell_type": "code",
   "execution_count": 14,
   "id": "8cc6faf9-79df-4a99-92f4-cff0485108c3",
   "metadata": {},
   "outputs": [
    {
     "data": {
      "text/plain": [
       "'\\nСтворіть два вектори розміром 7, заповніть довільними числами та \\nзнайдіть їх скалярний добуток.\\n'"
      ]
     },
     "execution_count": 14,
     "metadata": {},
     "output_type": "execute_result"
    }
   ],
   "source": [
    "\"\"\"\n",
    "Створіть два вектори розміром 7, заповніть довільними числами та \n",
    "знайдіть їх скалярний добуток.\n",
    "\"\"\""
   ]
  },
  {
   "cell_type": "code",
   "execution_count": 15,
   "id": "b5f1e6af-1294-4689-afdd-aed4d349cace",
   "metadata": {},
   "outputs": [
    {
     "name": "stdout",
     "output_type": "stream",
     "text": [
      "Array 1:   0   5 -11   1   3   9 -10\n",
      "Array 1:   4  -5  -4   7 -10   2   6\n",
      "Scalar sum: -46\n"
     ]
    }
   ],
   "source": [
    "V1 = np.random.randint(-11, 11, size=(7))\n",
    "print(f\"Array 1: {' '.join([f'{x:3d}' for x in V1])}\")\n",
    "\n",
    "V2 = np.random.randint(-10, 11, size=(7))\n",
    "print(f\"Array 1: {' '.join([f'{x:3d}' for x in V2])}\")\n",
    "\n",
    "print(f\"Scalar sum: {np.dot(V1, V2)}\")\n"
   ]
  },
  {
   "cell_type": "code",
   "execution_count": 16,
   "id": "05a2fb8a-900b-4015-91e3-fb1be615f6e1",
   "metadata": {},
   "outputs": [
    {
     "data": {
      "text/plain": [
       "'\\nСтворіть дві матриці розміром 2x2 та 2x3, заповніть їх випадковими цілими числами \\nв діапазоні від 1 до 10 та перемножте їх між собою.\\n'"
      ]
     },
     "execution_count": 16,
     "metadata": {},
     "output_type": "execute_result"
    }
   ],
   "source": [
    "\"\"\"\n",
    "Створіть дві матриці розміром 2x2 та 2x3, заповніть їх випадковими цілими числами \n",
    "в діапазоні від 1 до 10 та перемножте їх між собою.\n",
    "\"\"\""
   ]
  },
  {
   "cell_type": "code",
   "execution_count": 17,
   "id": "c4245885-a2c7-4bb5-8597-c156eefb3d53",
   "metadata": {},
   "outputs": [
    {
     "name": "stdout",
     "output_type": "stream",
     "text": [
      "Matrix 1:\n",
      "[[2 4]\n",
      " [5 3]]\n",
      "Matrix 2:\n",
      "[[10  5  9]\n",
      " [ 5 10 10]]\n",
      "Result:\n",
      "[[40 50 58]\n",
      " [65 55 75]]\n"
     ]
    }
   ],
   "source": [
    "# Створюємо дві матриці\n",
    "matrix1 = np.random.randint(1, 11, size=(2, 2))\n",
    "matrix2 = np.random.randint(1, 11, size=(2, 3))\n",
    "\n",
    "# Виводимо матриці\n",
    "print(f\"Matrix 1:\\n{matrix1}\")\n",
    "print(f\"Matrix 2:\\n{matrix2}\")\n",
    "\n",
    "# Перемножуємо матриці\n",
    "result = np.dot(matrix1, matrix2)\n",
    "print(f\"Result:\\n{result}\")"
   ]
  },
  {
   "cell_type": "code",
   "execution_count": 18,
   "id": "8df7dd42-2523-4f1b-b6ef-36f539d05789",
   "metadata": {},
   "outputs": [
    {
     "data": {
      "text/plain": [
       "'\\nСтворіть матрицю розміром 3x3, заповніть її випадковими \\nцілими числами в діапазоні від 1 до 10 та знайдіть її обернену матрицю.\\n'"
      ]
     },
     "execution_count": 18,
     "metadata": {},
     "output_type": "execute_result"
    }
   ],
   "source": [
    "\"\"\"\n",
    "Створіть матрицю розміром 3x3, заповніть її випадковими \n",
    "цілими числами в діапазоні від 1 до 10 та знайдіть її обернену матрицю.\n",
    "\"\"\""
   ]
  },
  {
   "cell_type": "code",
   "execution_count": 19,
   "id": "9f16ac65-f676-40fd-8d4c-bceb8bacbd67",
   "metadata": {},
   "outputs": [
    {
     "name": "stdout",
     "output_type": "stream",
     "text": [
      "[[ 9  7  5]\n",
      " [ 5  3  3]\n",
      " [ 7  7 10]]\n",
      "\n",
      "[[-0.17307692  0.67307692 -0.11538462]\n",
      " [ 0.55769231 -1.05769231  0.03846154]\n",
      " [-0.26923077  0.26923077  0.15384615]]\n"
     ]
    }
   ],
   "source": [
    "matrix1 = np.random.randint(1, 11, size=(3, 3))\n",
    "print(matrix1)\n",
    "print()\n",
    "matrix_inv = np.linalg.inv(matrix1)\n",
    "print(matrix_inv)"
   ]
  },
  {
   "cell_type": "code",
   "execution_count": 20,
   "id": "e210d2f5-3256-4f76-990b-a0ef8d5df671",
   "metadata": {},
   "outputs": [
    {
     "data": {
      "text/plain": [
       "'\\nСтворіть матрицю розміром 4x4, заповніть її випадковими \\nдійсними числами в діапазоні від 0 до 1 та транспонуйте її.\\n'"
      ]
     },
     "execution_count": 20,
     "metadata": {},
     "output_type": "execute_result"
    }
   ],
   "source": [
    "\"\"\"\n",
    "Створіть матрицю розміром 4x4, заповніть її випадковими \n",
    "дійсними числами в діапазоні від 0 до 1 та транспонуйте її.\n",
    "\"\"\""
   ]
  },
  {
   "cell_type": "code",
   "execution_count": 21,
   "id": "a67b8865-175f-4048-a1e4-9c490dc205b1",
   "metadata": {},
   "outputs": [
    {
     "name": "stdout",
     "output_type": "stream",
     "text": [
      "[[0.94184798 0.64197525 0.78140507 0.13870342]\n",
      " [0.79723893 0.85663536 0.10619127 0.37873883]\n",
      " [0.00477266 0.4497056  0.783224   0.50718195]\n",
      " [0.23467008 0.57185836 0.96842062 0.45668175]]\n",
      "\n",
      "[[0.94184798 0.79723893 0.00477266 0.23467008]\n",
      " [0.64197525 0.85663536 0.4497056  0.57185836]\n",
      " [0.78140507 0.10619127 0.783224   0.96842062]\n",
      " [0.13870342 0.37873883 0.50718195 0.45668175]]\n"
     ]
    }
   ],
   "source": [
    "matrix2 = np.random.random(size=(4, 4))\n",
    "\n",
    "matrix_T = matrix2.T\n",
    "print(matrix2)\n",
    "print()\n",
    "print(matrix_T)\n"
   ]
  },
  {
   "cell_type": "code",
   "execution_count": 22,
   "id": "326a8286-1a1a-4eeb-8717-29ff3bae02c2",
   "metadata": {},
   "outputs": [
    {
     "data": {
      "text/plain": [
       "'\\nСтворіть матрицю розміром 3x4 та вектор розміром 4, заповніть їх випадковими\\nцілими числами в діапазоні від 1 до 10 та перемножте матрицю на вектор.\\n'"
      ]
     },
     "execution_count": 22,
     "metadata": {},
     "output_type": "execute_result"
    }
   ],
   "source": [
    "\"\"\"\n",
    "Створіть матрицю розміром 3x4 та вектор розміром 4, заповніть їх випадковими\n",
    "цілими числами в діапазоні від 1 до 10 та перемножте матрицю на вектор.\n",
    "\"\"\""
   ]
  },
  {
   "cell_type": "code",
   "execution_count": 23,
   "id": "3f78de1b-5948-4a84-a0c7-7865838f8dda",
   "metadata": {},
   "outputs": [
    {
     "name": "stdout",
     "output_type": "stream",
     "text": [
      "Matrix:\n",
      "[[8 2 6 3]\n",
      " [3 7 9 5]\n",
      " [4 7 1 5]]\n",
      "Vector: [ 5  2 10  1]\n",
      "Result: [107 124  49]\n"
     ]
    }
   ],
   "source": [
    "# Створюємо матрицю 3x4\n",
    "matrix = np.random.randint(1, 11, size=(3, 4))\n",
    "print(f\"Matrix:\\n{matrix}\")\n",
    "\n",
    "# Створюємо вектор розміром 4\n",
    "vector = np.random.randint(1, 11, size=(4))\n",
    "print(f\"Vector: {vector}\")\n",
    "\n",
    "# Перемножуємо матрицю на вектор\n",
    "result = np.dot(matrix, vector)\n",
    "print(f\"Result: {result}\")"
   ]
  },
  {
   "cell_type": "code",
   "execution_count": 24,
   "id": "c3b08f89-9de9-4dc6-90fc-7e8375d07b42",
   "metadata": {},
   "outputs": [
    {
     "data": {
      "text/plain": [
       "'\\nСтворіть матрицю розміром 2x3 та вектор розміром 3, заповніть їх випадковими дійсними числами в діапазоні\\nвід 0 до 1 та перемножте матрицю на вектор.\\n'"
      ]
     },
     "execution_count": 24,
     "metadata": {},
     "output_type": "execute_result"
    }
   ],
   "source": [
    "\"\"\"\n",
    "Створіть матрицю розміром 2x3 та вектор розміром 3, заповніть їх випадковими дійсними числами в діапазоні\n",
    "від 0 до 1 та перемножте матрицю на вектор.\n",
    "\"\"\""
   ]
  },
  {
   "cell_type": "code",
   "execution_count": 25,
   "id": "3e9f7ec2-f3ce-45c3-b969-402803328928",
   "metadata": {},
   "outputs": [
    {
     "name": "stdout",
     "output_type": "stream",
     "text": [
      "Matrix:\n",
      "[[0.89017995 0.74292447 0.97861037]\n",
      " [0.83613142 0.3781793  0.35521387]]\n",
      "Vector: [0.0524119  0.34507999 0.68393603]\n",
      "Result2: [0.97233129 0.41726891]\n"
     ]
    }
   ],
   "source": [
    "# Створюємо матрицю 2x3\n",
    "matrix2 = np.random.random(size=(2, 3))\n",
    "print(f\"Matrix:\\n{matrix2}\")\n",
    "\n",
    "# Створюємо вектор розміром 3\n",
    "vector2 = np.random.random(size=(3))\n",
    "print(f\"Vector: {vector2}\")\n",
    "\n",
    "# Перемножуємо матрицю на вектор\n",
    "result2 = np.dot(matrix2, vector2)\n",
    "print(f\"Result2: {result2}\")"
   ]
  },
  {
   "cell_type": "code",
   "execution_count": 26,
   "id": "d4f35c04-1935-4b3b-be04-688cd89fffad",
   "metadata": {},
   "outputs": [
    {
     "data": {
      "text/plain": [
       "'\\nСтворіть дві матриці розміром 2x2, заповніть їх випадковими цілими числами в діапазоні \\nвід 1 до 10 та виконайте їхнє поелементне множення.\\n'"
      ]
     },
     "execution_count": 26,
     "metadata": {},
     "output_type": "execute_result"
    }
   ],
   "source": [
    "\"\"\"\n",
    "Створіть дві матриці розміром 2x2, заповніть їх випадковими цілими числами в діапазоні \n",
    "від 1 до 10 та виконайте їхнє поелементне множення.\n",
    "\"\"\""
   ]
  },
  {
   "cell_type": "code",
   "execution_count": 27,
   "id": "6417533a-922b-4bc2-b2a5-68ebb17be6b8",
   "metadata": {},
   "outputs": [
    {
     "name": "stdout",
     "output_type": "stream",
     "text": [
      "Matrix:\n",
      "[[ 4  6]\n",
      " [10  3]]\n",
      "Matrix:\n",
      "[[10  7]\n",
      " [ 1 10]]\n",
      "Result: [[40 42]\n",
      " [10 30]]\n"
     ]
    }
   ],
   "source": [
    "# Створюємо матрицю 2x2\n",
    "matrix3 = np.random.randint(1, 11, size=(2, 2))\n",
    "print(f\"Matrix:\\n{matrix3}\")\n",
    "\n",
    "# Створюємо матрицю 2x2\n",
    "matrix4 = np.random.randint(1, 11, size=(2, 2))\n",
    "print(f\"Matrix:\\n{matrix4}\")\n",
    "\n",
    "# Перемножуємо матриці поелементно\n",
    "result3 = matrix3 * matrix4\n",
    "print(f\"Result: {result3}\")"
   ]
  },
  {
   "cell_type": "code",
   "execution_count": 28,
   "id": "81ba25dc-a36a-40f9-9248-93c30c5cbff9",
   "metadata": {},
   "outputs": [
    {
     "data": {
      "text/plain": [
       "'\\nСтворіть дві матриці розміром 2x2, заповніть їх випадковими цілими \\nчислами в діапазоні від 1 до 10 та знайдіть їх добуток.\\n'"
      ]
     },
     "execution_count": 28,
     "metadata": {},
     "output_type": "execute_result"
    }
   ],
   "source": [
    "\"\"\"\n",
    "Створіть дві матриці розміром 2x2, заповніть їх випадковими цілими \n",
    "числами в діапазоні від 1 до 10 та знайдіть їх добуток.\n",
    "\"\"\""
   ]
  },
  {
   "cell_type": "code",
   "execution_count": 30,
   "id": "3e2be8a4-60e1-4b7c-a18f-06e643e54670",
   "metadata": {},
   "outputs": [
    {
     "name": "stdout",
     "output_type": "stream",
     "text": [
      "Matrix:\n",
      "[[10  7]\n",
      " [ 8  3]]\n",
      "Matrix:\n",
      "[[7 3]\n",
      " [7 4]]\n",
      "Result:\n",
      "[[119  58]\n",
      " [ 77  36]]\n"
     ]
    }
   ],
   "source": [
    "# Створюємо матрицю 2x2\n",
    "matrix5 = np.random.randint(1, 11, size=(2, 2))\n",
    "print(f\"Matrix:\\n{matrix5}\")\n",
    "\n",
    "# Створюємо матрицю 2x2\n",
    "matrix6 = np.random.randint(1, 11, size=(2, 2))\n",
    "print(f\"Matrix:\\n{matrix6}\")\n",
    "\n",
    "# Перемножуємо матриці\n",
    "result4 = matrix5 @ matrix6\n",
    "# result3 = np.dot(matrix3, matrix4)\n",
    "print(f\"Result:\\n{result4}\")"
   ]
  },
  {
   "cell_type": "code",
   "execution_count": 31,
   "id": "80dc71df-9a2c-40d9-86de-fb886c18d172",
   "metadata": {},
   "outputs": [
    {
     "data": {
      "text/plain": [
       "'\\nСтворіть матрицю розміром 5x5, заповніть її випадковими цілими числами в діапазоні \\nвід 1 до 100 та знайдіть суму елементів матриці.\\n'"
      ]
     },
     "execution_count": 31,
     "metadata": {},
     "output_type": "execute_result"
    }
   ],
   "source": [
    "\"\"\"\n",
    "Створіть матрицю розміром 5x5, заповніть її випадковими цілими числами в діапазоні \n",
    "від 1 до 100 та знайдіть суму елементів матриці.\n",
    "\"\"\""
   ]
  },
  {
   "cell_type": "code",
   "execution_count": 32,
   "id": "d3b7d774-a6af-47b0-939a-d5f9cbb63a4b",
   "metadata": {},
   "outputs": [
    {
     "name": "stdout",
     "output_type": "stream",
     "text": [
      "Matrix:\n",
      "[[46 10 10 47 52]\n",
      " [10 12 85 12 13]\n",
      " [50 38 65 98 85]\n",
      " [10 29 64 93  6]\n",
      " [24  3 16 26 61]]\n",
      "Sum of all elements: 965\n"
     ]
    }
   ],
   "source": [
    "# Створюємо матрицю 5x5 з випадковими цілими числами від 1 до 100\n",
    "matrix = np.random.randint(1, 101, size=(5, 5))\n",
    "print(f\"Matrix:\\n{matrix}\")\n",
    "\n",
    "# Знаходимо суму елементів матриці\n",
    "sum = np.sum(matrix)\n",
    "print(f\"Sum of all elements: {sum}\")"
   ]
  },
  {
   "cell_type": "code",
   "execution_count": 33,
   "id": "f9d9ff73-f9ac-4b26-abd9-d4addf15d89f",
   "metadata": {},
   "outputs": [
    {
     "data": {
      "text/plain": [
       "'\\nСтворіть дві матриці розміром 4x4, заповніть їх випадковими цілими числами в діапазоні \\nвід 1 до 10 та знайдіть їхню різницю.\\n'"
      ]
     },
     "execution_count": 33,
     "metadata": {},
     "output_type": "execute_result"
    }
   ],
   "source": [
    "\"\"\"\n",
    "Створіть дві матриці розміром 4x4, заповніть їх випадковими цілими числами в діапазоні \n",
    "від 1 до 10 та знайдіть їхню різницю.\n",
    "\"\"\""
   ]
  },
  {
   "cell_type": "code",
   "execution_count": 34,
   "id": "58e2520b-39ae-4b95-9d8e-e0cea00a713f",
   "metadata": {},
   "outputs": [
    {
     "name": "stdout",
     "output_type": "stream",
     "text": [
      "Matrix:\n",
      "[[10  1  9  1]\n",
      " [ 6  2 10  5]\n",
      " [ 5  5  2  8]\n",
      " [ 1  3  1  7]]\n",
      "Matrix:\n",
      "[[ 4  3  1 10]\n",
      " [10  1  5  9]\n",
      " [ 7  5  7  7]\n",
      " [ 3  3  5  7]]\n",
      "Difference:\n",
      "[[ 6 -2  8 -9]\n",
      " [-4  1  5 -4]\n",
      " [-2  0 -5  1]\n",
      " [-2  0 -4  0]]\n"
     ]
    }
   ],
   "source": [
    "# Створюємо матрицю 4x4 з випадковими цілими числами від 1 до 10\n",
    "matrix2 = np.random.randint(1, 11, size=(4, 4))\n",
    "print(f\"Matrix:\\n{matrix2}\")\n",
    "\n",
    "\n",
    "# Створюємо матрицю 4x4 з випадковими цілими числами від 1 до 10\n",
    "matrix3 = np.random.randint(1, 11, size=(4, 4))\n",
    "print(f\"Matrix:\\n{matrix3}\")\n",
    "\n",
    "# difference = np.sum(matrix2) - np.sum(matrix3)\n",
    "\n",
    "# Знаходимо поелементну різницю між матрицями\n",
    "difference = matrix2 - matrix3\n",
    "print(f\"Difference:\\n{difference}\")"
   ]
  },
  {
   "cell_type": "code",
   "execution_count": 35,
   "id": "62ed662c-c6b6-4c19-b58d-a731f3beb5db",
   "metadata": {},
   "outputs": [
    {
     "data": {
      "text/plain": [
       "'\\nСтворіть матрицю розміром 3x3, заповніть її випадковими дійсними числами \\nв діапазоні від 0 до 1 та знайдіть вектор-стовпчик, що містить суму елементів кожного рядка матриці.\\n'"
      ]
     },
     "execution_count": 35,
     "metadata": {},
     "output_type": "execute_result"
    }
   ],
   "source": [
    "\"\"\"\n",
    "Створіть матрицю розміром 3x3, заповніть її випадковими дійсними числами \n",
    "в діапазоні від 0 до 1 та знайдіть вектор-стовпчик, що містить суму елементів кожного рядка матриці.\n",
    "\"\"\""
   ]
  },
  {
   "cell_type": "code",
   "execution_count": 36,
   "id": "7f65aaf5-400e-48cd-843c-2c849ce3cccd",
   "metadata": {},
   "outputs": [
    {
     "name": "stdout",
     "output_type": "stream",
     "text": [
      "Original matrix:\n",
      "[[0.25874052 0.22661702 0.91134493]\n",
      " [0.38091992 0.57903031 0.24127733]\n",
      " [0.26452879 0.58637875 0.8029833 ]]\n",
      "Row sums:\n",
      "[[1.39670247]\n",
      " [1.20122755]\n",
      " [1.65389084]]\n"
     ]
    }
   ],
   "source": [
    "# Створимо матрицю 3x3 з випадковими числами від 0 до 1\n",
    "matrix = np.random.random((3, 3))\n",
    "print(f\"Original matrix:\\n{matrix}\")\n",
    "\n",
    "# Ініціалізуємо порожній список для зберігання сум рядків\n",
    "row_sums = []\n",
    "\n",
    "# Проходимося по кожному рядку матриці та сумуємо його елементи\n",
    "for row in matrix:\n",
    "    row_sum = np.sum(row)\n",
    "    row_sums.append(row_sum)\n",
    "\n",
    "# Преобразуємо список в numpy масив та робимо його двовимірним (вектор-стовпчик)\n",
    "row_sums = np.array(row_sums).reshape(-1, 1)\n",
    "print(f\"Row sums:\\n{row_sums}\")"
   ]
  },
  {
   "cell_type": "code",
   "execution_count": 37,
   "id": "1d43c633-11d0-44ef-ad72-43863ab77a0b",
   "metadata": {},
   "outputs": [
    {
     "data": {
      "text/plain": [
       "'\\nСтворіть матрицю розміром 3x4 з довільними цілими числами \\nі створінь матрицю з квадратами цих чисел.\\n'"
      ]
     },
     "execution_count": 37,
     "metadata": {},
     "output_type": "execute_result"
    }
   ],
   "source": [
    "\"\"\"\n",
    "Створіть матрицю розміром 3x4 з довільними цілими числами \n",
    "і створінь матрицю з квадратами цих чисел.\n",
    "\"\"\""
   ]
  },
  {
   "cell_type": "code",
   "execution_count": 38,
   "id": "d32274c6-e3dc-4dc6-a47a-a65245c0011b",
   "metadata": {},
   "outputs": [
    {
     "name": "stdout",
     "output_type": "stream",
     "text": [
      "Matrix:\n",
      "[[1 6 5 8]\n",
      " [8 7 1 9]\n",
      " [6 9 6 9]]\n",
      "New matrix is:\n",
      "[[ 1 36 25 64]\n",
      " [64 49  1 81]\n",
      " [36 81 36 81]]\n"
     ]
    }
   ],
   "source": [
    "# Створюємо матрицю 3x4 з випадковими цілими числами від 1 до 10\n",
    "matrix = np.random.randint(1, 11, size=(3, 4))\n",
    "print(f\"Matrix:\\n{matrix}\")\n",
    "\n",
    "# Створюємо матрицю з квадратами чисел\n",
    "matrix2 = matrix**2\n",
    "\n",
    "print(f\"New matrix is:\\n{matrix2}\")"
   ]
  },
  {
   "cell_type": "code",
   "execution_count": 39,
   "id": "151b2aaa-f69a-4c06-9ba5-8e423945957f",
   "metadata": {},
   "outputs": [
    {
     "data": {
      "text/plain": [
       "'\\nСтворіть вектор розміром 4, заповніть його випадковими цілими числами в діапазоні \\nвід 1 до 50 та знайдіть вектор з квадратними коренями цих чисел.\\n'"
      ]
     },
     "execution_count": 39,
     "metadata": {},
     "output_type": "execute_result"
    }
   ],
   "source": [
    "\"\"\"\n",
    "Створіть вектор розміром 4, заповніть його випадковими цілими числами в діапазоні \n",
    "від 1 до 50 та знайдіть вектор з квадратними коренями цих чисел.\n",
    "\"\"\""
   ]
  },
  {
   "cell_type": "code",
   "execution_count": 40,
   "id": "f2fd5513-3427-49b7-aaca-09f230cbf622",
   "metadata": {},
   "outputs": [
    {
     "name": "stdout",
     "output_type": "stream",
     "text": [
      "Original vector: [18 23 39 48]\n",
      "Vector of square roots: [4.2426 4.7958 6.245  6.9282]\n"
     ]
    }
   ],
   "source": [
    "# Створюємо вектор розміром 4 з випадковими цілими числами від 1 до 50\n",
    "vector = np.random.randint(1, 51, size=(4))\n",
    "print(f\"Original vector: {vector}\")\n",
    "\n",
    "# Знаходимо квадратні корені елементів вектора\n",
    "# sqrt_vector = np.sqrt(vector)\n",
    "sqrt_vector = np.round(np.sqrt(vector), 4)\n",
    "print(f\"Vector of square roots: {sqrt_vector}\")"
   ]
  },
  {
   "cell_type": "code",
   "execution_count": null,
   "id": "d66e22e0-ca57-432b-a806-d912c9a5f53b",
   "metadata": {},
   "outputs": [],
   "source": []
  }
 ],
 "metadata": {
  "kernelspec": {
   "display_name": "Python 3 (ipykernel)",
   "language": "python",
   "name": "python3"
  },
  "language_info": {
   "codemirror_mode": {
    "name": "ipython",
    "version": 3
   },
   "file_extension": ".py",
   "mimetype": "text/x-python",
   "name": "python",
   "nbconvert_exporter": "python",
   "pygments_lexer": "ipython3",
   "version": "3.10.11"
  }
 },
 "nbformat": 4,
 "nbformat_minor": 5
}
