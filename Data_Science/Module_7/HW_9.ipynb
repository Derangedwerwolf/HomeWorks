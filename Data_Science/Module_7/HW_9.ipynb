{
 "cells": [
  {
   "cell_type": "code",
   "execution_count": null,
   "id": "460168e8-9001-483e-9b36-427dd164d535",
   "metadata": {},
   "outputs": [],
   "source": [
    "import os\n",
    "from surprise import SVD, SVDpp, NMF\n",
    "from surprise import Dataset\n",
    "from surprise import Reader\n",
    "from surprise.model_selection import cross_validate"
   ]
  },
  {
   "cell_type": "code",
   "execution_count": 14,
   "id": "848d1f2b-5dbc-42df-bd9f-75c076fd35c6",
   "metadata": {},
   "outputs": [
    {
     "name": "stdout",
     "output_type": "stream",
     "text": [
      "Evaluating RMSE, MAE of algorithm SVD on 3 split(s).\n",
      "\n",
      "                  Fold 1  Fold 2  Fold 3  Mean    Std     \n",
      "RMSE (testset)    0.9449  0.9478  0.9449  0.9459  0.0014  \n",
      "MAE (testset)     0.7467  0.7494  0.7435  0.7465  0.0024  \n",
      "Fit time          0.71    0.73    0.76    0.73    0.02    \n",
      "Test time         0.21    2.49    0.44    1.04    1.03    \n"
     ]
    },
    {
     "data": {
      "text/plain": [
       "{'test_rmse': array([0.94488476, 0.94783324, 0.94489674]),\n",
       " 'test_mae': array([0.7466721 , 0.7493792 , 0.74346674]),\n",
       " 'fit_time': (0.711475133895874, 0.730370044708252, 0.7571742534637451),\n",
       " 'test_time': (0.20629525184631348, 2.490959644317627, 0.4371817111968994)}"
      ]
     },
     "execution_count": 14,
     "metadata": {},
     "output_type": "execute_result"
    }
   ],
   "source": [
    "# Завантаження даних\n",
    "data = Dataset.load_builtin('ml-100k')\n",
    "\n",
    "# Створення базової моделі SVD\n",
    "model = SVD()\n",
    "\n",
    "# Просте тренування та оцінка моделі\n",
    "cross_validate(model, data, measures=['RMSE', 'MAE'], cv=3, verbose=True)"
   ]
  },
  {
   "cell_type": "code",
   "execution_count": 19,
   "id": "3f8b6db8-7bdc-4f4f-8076-58a64166a7b2",
   "metadata": {},
   "outputs": [
    {
     "name": "stdout",
     "output_type": "stream",
     "text": [
      "SVD:\n",
      "Найкращий RMSE: 0.9421489013298224\n",
      "Найкращі параметри для RMSE: {'n_factors': 50, 'n_epochs': 20}\n",
      "Найкращий MAE: 0.7441342174380651\n",
      "Найкращі параметри для MAE: {'n_factors': 50, 'n_epochs': 20}\n"
     ]
    }
   ],
   "source": [
    "# Параметри для SVD\n",
    "param_grid_svd = {\n",
    "    'n_factors': [50, 100],  # Кількість факторів\n",
    "    'n_epochs': [20],        # Кількість епох тренування\n",
    "}\n",
    "\n",
    "# Проведення GridSearchCV\n",
    "gs_svd = GridSearchCV(SVD, param_grid_svd, measures=['rmse', 'mae'], cv=3)\n",
    "gs_svd.fit(data)\n",
    "\n",
    "# Виведення найкращих результатів\n",
    "print(\"SVD:\")\n",
    "print(\"Найкращий RMSE:\", gs_svd.best_score['rmse'])\n",
    "print(\"Найкращі параметри для RMSE:\", gs_svd.best_params['rmse'])\n",
    "print(\"Найкращий MAE:\", gs_svd.best_score['mae'])\n",
    "print(\"Найкращі параметри для MAE:\", gs_svd.best_params['mae'])"
   ]
  },
  {
   "cell_type": "code",
   "execution_count": 18,
   "id": "e7a7ce89-a328-4387-828f-67bf6077ae52",
   "metadata": {},
   "outputs": [
    {
     "name": "stdout",
     "output_type": "stream",
     "text": [
      "SVD:\n",
      "Найкращий RMSE: 0.9207080524340189\n",
      "Найкращі параметри для RMSE: {'n_factors': 150, 'n_epochs': 30, 'lr_all': 0.01, 'reg_all': 0.1}\n",
      "Найкращий MAE: 0.7285994573004543\n",
      "Найкращі параметри для MAE: {'n_factors': 150, 'n_epochs': 30, 'lr_all': 0.01, 'reg_all': 0.1}\n"
     ]
    }
   ],
   "source": [
    "param_grid_svd = {\n",
    "    'n_factors': [10, 150, 200],\n",
    "    'n_epochs': [20, 30, 50],\n",
    "    'lr_all': [0.005, 0.01, 0.1],\n",
    "    'reg_all': [0.02, 0.1, 0.5]\n",
    "}\n",
    "\n",
    "gs_svd = GridSearchCV(SVD, param_grid_svd, measures=['rmse', 'mae'], cv=3)\n",
    "gs_svd.fit(data)\n",
    "\n",
    "# Виведення найкращих результатів\n",
    "print(\"SVD:\")\n",
    "print(\"Найкращий RMSE:\", gs_svd.best_score['rmse'])\n",
    "print(\"Найкращі параметри для RMSE:\", gs_svd.best_params['rmse'])\n",
    "print(\"Найкращий MAE:\", gs_svd.best_score['mae'])\n",
    "print(\"Найкращі параметри для MAE:\", gs_svd.best_params['mae'])"
   ]
  },
  {
   "cell_type": "code",
   "execution_count": 22,
   "id": "69e36ca6-955f-4766-b73e-3835b17c4da0",
   "metadata": {},
   "outputs": [
    {
     "name": "stdout",
     "output_type": "stream",
     "text": [
      "NMF:\n",
      "Найкращий RMSE: 0.9497746662957937\n",
      "Найкращі параметри для RMSE: {'n_factors': 100, 'n_epochs': 20, 'reg_pu': 0.1, 'reg_qi': 0.5, 'biased': False}\n",
      "Найкращий MAE: 0.7412883191587384\n",
      "Найкращі параметри для MAE: {'n_factors': 100, 'n_epochs': 40, 'reg_pu': 0.5, 'reg_qi': 0.02, 'biased': False}\n"
     ]
    }
   ],
   "source": [
    "data = Dataset.load_builtin('ml-100k')\n",
    "\n",
    "# Використання NMF\n",
    "param_grid_nmf = {\n",
    "    'n_factors': [20, 50, 100],  # Кількість факторів\n",
    "    'n_epochs': [20, 30, 40],         # Кількість епох тренування\n",
    "    'reg_pu': [0.02, 0.1, 0.5],        # Регуляризація для факторів користувача\n",
    "    'reg_qi': [0.02, 0.1, 0.5],        # Регуляризація для факторів елементів\n",
    "    'biased': [False],      # Включення параметра зміщення\n",
    "}\n",
    "\n",
    "# Проведення GridSearchCV для NMF\n",
    "gs_nmf = GridSearchCV(NMF, param_grid_nmf, measures=['rmse', 'mae'], cv=3)\n",
    "gs_nmf.fit(data)\n",
    "\n",
    "# Виведення найкращих результатів для NMF\n",
    "print(\"NMF:\")\n",
    "print(\"Найкращий RMSE:\", gs_nmf.best_score['rmse'])\n",
    "print(\"Найкращі параметри для RMSE:\", gs_nmf.best_params['rmse'])\n",
    "print(\"Найкращий MAE:\", gs_nmf.best_score['mae'])\n",
    "print(\"Найкращі параметри для MAE:\", gs_nmf.best_params['mae'])"
   ]
  },
  {
   "cell_type": "code",
   "execution_count": 6,
   "id": "650e2a89-0951-4f55-815e-fdc4a1ee9858",
   "metadata": {},
   "outputs": [
    {
     "name": "stdout",
     "output_type": "stream",
     "text": [
      "Evaluating RMSE, MAE of algorithm SVD on 5 split(s).\n",
      "\n",
      "                  Fold 1  Fold 2  Fold 3  Fold 4  Fold 5  Mean    Std     \n",
      "RMSE (testset)    0.9344  0.9374  0.9393  0.9387  0.9356  0.9371  0.0019  \n",
      "MAE (testset)     0.7358  0.7401  0.7399  0.7403  0.7361  0.7384  0.0020  \n",
      "Fit time          0.71    0.75    0.76    0.76    0.72    0.74    0.02    \n",
      "Test time         0.56    0.09    0.12    0.08    0.13    0.20    0.18    \n",
      "Evaluating RMSE, MAE of algorithm SVDpp on 5 split(s).\n",
      "\n",
      "                  Fold 1  Fold 2  Fold 3  Fold 4  Fold 5  Mean    Std     \n",
      "RMSE (testset)    0.9171  0.9137  0.9247  0.9233  0.9172  0.9192  0.0041  \n",
      "MAE (testset)     0.7188  0.7157  0.7272  0.7246  0.7208  0.7214  0.0041  \n",
      "Fit time          13.81   13.82   14.01   13.73   13.89   13.85   0.09    \n",
      "Test time         2.33    2.29    2.31    2.30    2.35    2.32    0.02    \n",
      "Evaluating RMSE, MAE of algorithm NMF on 5 split(s).\n",
      "\n",
      "                  Fold 1  Fold 2  Fold 3  Fold 4  Fold 5  Mean    Std     \n",
      "RMSE (testset)    0.9610  0.9672  0.9573  0.9653  0.9669  0.9636  0.0038  \n",
      "MAE (testset)     0.7571  0.7580  0.7547  0.7589  0.7579  0.7573  0.0015  \n",
      "Fit time          1.14    1.15    1.11    1.10    1.09    1.12    0.02    \n",
      "Test time         0.07    0.13    0.06    0.12    0.08    0.09    0.03    \n",
      "SVD: Середній RMSE: 0.9370792570388072, Середній MAE: 0.7384358011043188\n",
      "SVD++: Середній RMSE: 0.919225549173761, Середній MAE: 0.7214227185675164\n",
      "NMF: Середній RMSE: 0.9635530685296775, Середній MAE: 0.7573219414893361\n"
     ]
    }
   ],
   "source": [
    "data = Dataset.load_builtin('ml-100k')\n",
    "\n",
    "models = {\n",
    "    \"SVD\": SVD(),\n",
    "    \"SVD++\": SVDpp(),\n",
    "    \"NMF\": NMF()\n",
    "}\n",
    "\n",
    "# Виконання крос-валідації для кожної моделі та збереження результатів\n",
    "results = {}\n",
    "for name, model in models.items():\n",
    "    results[name] = cross_validate(model, data, measures=['RMSE', 'MAE'], cv=5, verbose=True)\n",
    "\n",
    "\n",
    "for name, result in results.items():\n",
    "    print(f\"{name}: Середній RMSE: {result['test_rmse'].mean()}, Середній MAE: {result['test_mae'].mean()}\")"
   ]
  },
  {
   "cell_type": "code",
   "execution_count": null,
   "id": "9ddc2686-ccf5-4396-9fe3-16ac387da5d4",
   "metadata": {},
   "outputs": [],
   "source": []
  }
 ],
 "metadata": {
  "kernelspec": {
   "display_name": "Python 3 (ipykernel)",
   "language": "python",
   "name": "python3"
  },
  "language_info": {
   "codemirror_mode": {
    "name": "ipython",
    "version": 3
   },
   "file_extension": ".py",
   "mimetype": "text/x-python",
   "name": "python",
   "nbconvert_exporter": "python",
   "pygments_lexer": "ipython3",
   "version": "3.10.11"
  }
 },
 "nbformat": 4,
 "nbformat_minor": 5
}
