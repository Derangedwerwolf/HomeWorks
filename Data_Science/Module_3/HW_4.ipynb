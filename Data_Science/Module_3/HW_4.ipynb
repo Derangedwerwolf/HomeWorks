{
 "cells": [
  {
   "cell_type": "markdown",
   "id": "4d87f688-6274-4bee-b246-a757f5d9b2b9",
   "metadata": {},
   "source": [
    "Функція гіпотези лінійної регресії представляє собою передбачення моделі на основі вхідних даних і параметрів моделі (вагів). \n",
    "У векторному вигляді ця функція виражається як скалярний добуток вектора вагів і вектора ознак, плюс зміщення. \n",
    "Це можна записати таким чином:\n",
    "$$ h(\\vec{x}) = \\vec{\\omega}\\times\\vec{x}$$"
   ]
  },
  {
   "cell_type": "markdown",
   "id": "97fb2b80-a56c-45e8-8ae7-35ade14a71cd",
   "metadata": {},
   "source": [
    "функція для обчислення функції втрат у векторному вигляді:\n",
    "$$\r\n",
    "MSE = \\frac{1}{n} \\| \\mathbf{y} - \\hat{\\mathbf{y}} \\|^2\r\n",
    "$$"
   ]
  },
  {
   "cell_type": "code",
   "execution_count": 72,
   "id": "e04d2038-366d-4add-a646-362b6228ab51",
   "metadata": {},
   "outputs": [],
   "source": [
    "import numpy as np\n",
    "import pandas as pd\n",
    "\n",
    "from sklearn.linear_model import LinearRegression\n",
    "from sklearn.linear_model import SGDRegressor\n",
    "\n",
    "from sklearn.linear_model import RidgeCV, LassoCV\n",
    "from sklearn.preprocessing import StandardScaler\n",
    "\n",
    "from sklearn.model_selection import train_test_split\n",
    "from sklearn.metrics import mean_squared_error\n"
   ]
  },
  {
   "cell_type": "code",
   "execution_count": 73,
   "id": "133fe724-ca1f-452d-bacf-6964d1660e9e",
   "metadata": {},
   "outputs": [
    {
     "name": "stdout",
     "output_type": "stream",
     "text": [
      "Ваги моделі: [0.15399485 0.3385847 ]\n",
      "Зміщення моделі: [0.107295]\n"
     ]
    },
    {
     "data": {
      "text/plain": [
       "'Трішки не зрозумів що значить один крок'"
      ]
     },
     "execution_count": 73,
     "metadata": {},
     "output_type": "execute_result"
    }
   ],
   "source": [
    "X = np.array([[1, 2], [1, 3], [2, 4]])\n",
    "y = np.array([3, 4, 5])               # Цільові значення\n",
    "\n",
    "# model = LinearRegression()\n",
    "\n",
    "# Створення моделі SGDRegressor\n",
    "model = SGDRegressor(max_iter=1, tol=None, learning_rate='constant', eta0=0.01, early_stopping=False)\n",
    "\n",
    "# І ще це якийсь стохастичний підхід\n",
    "\n",
    "model.fit(X, y)\n",
    "\n",
    "# Отримання коефіціентів(ваг) і змішення:\n",
    "omega = model.coef_\n",
    "b = model.intercept_\n",
    "\n",
    "print(\"Ваги моделі:\", omega)\n",
    "print(\"Зміщення моделі:\", b)\n",
    "\n",
    "\"\"\"Трішки не зрозумів що значить один крок\"\"\""
   ]
  },
  {
   "cell_type": "code",
   "execution_count": 79,
   "id": "b5381598-cfb4-49fa-8a22-c8a413777cce",
   "metadata": {},
   "outputs": [
    {
     "name": "stdout",
     "output_type": "stream",
     "text": [
      "Отсутствующие значения:\n",
      "price               0\n",
      "area                0\n",
      "bedrooms            0\n",
      "bathrooms           0\n",
      "stories             0\n",
      "mainroad            0\n",
      "guestroom           0\n",
      "basement            0\n",
      "hotwaterheating     0\n",
      "airconditioning     0\n",
      "parking             0\n",
      "prefarea            0\n",
      "furnishingstatus    0\n",
      "dtype: int64\n",
      "\n",
      "Основні статистичні характеристики після очищення:\n",
      "              price          area    bedrooms   bathrooms     stories  \\\n",
      "count  5.450000e+02    545.000000  545.000000  545.000000  545.000000   \n",
      "mean   4.766729e+06   5150.541284    2.965138    1.286239    1.805505   \n",
      "std    1.870440e+06   2170.141023    0.738064    0.502470    0.867492   \n",
      "min    1.750000e+06   1650.000000    1.000000    1.000000    1.000000   \n",
      "25%    3.430000e+06   3600.000000    2.000000    1.000000    1.000000   \n",
      "50%    4.340000e+06   4600.000000    3.000000    1.000000    2.000000   \n",
      "75%    5.740000e+06   6360.000000    3.000000    2.000000    2.000000   \n",
      "max    1.330000e+07  16200.000000    6.000000    4.000000    4.000000   \n",
      "\n",
      "          parking   log_price  \n",
      "count  545.000000  545.000000  \n",
      "mean     0.693578   15.306987  \n",
      "std      0.861586    0.372165  \n",
      "min      0.000000   14.375126  \n",
      "25%      0.000000   15.048071  \n",
      "50%      0.000000   15.283385  \n",
      "75%      1.000000   15.562970  \n",
      "max      3.000000   16.403275  \n"
     ]
    }
   ],
   "source": [
    "file_path = \"Housing.csv\"\n",
    "data = pd.read_csv(file_path)\n",
    "\n",
    "print(\"Отсутствующие значения:\")\n",
    "print(data.isnull().sum())\n",
    "\n",
    "X = data[['area', 'bedrooms', 'bathrooms']]  # ознаки\n",
    "data['log_price'] = np.log(data['price'])\n",
    "y = data['log_price']                            # цільова змінна\n",
    "\n",
    "# Стовпці, що очікуються у цифровому вигляді\n",
    "expected_numeric_cols = ['area', 'bedrooms', 'bathrooms']\n",
    "\n",
    "# Перевіряємо та/чи замінюємо їх\n",
    "for col in expected_numeric_cols:\n",
    "    if data[col].apply(lambda x: isinstance(x, str) and not x.isdigit()).any():\n",
    "        print(f\"\\nЗнайдені нечислові значення у {col}\")\n",
    "        data[col] = pd.to_numeric(data[col], errors=\"coerce\").fillna(0)\n",
    "\n",
    "# Обробка відсутніх значень\n",
    "# Заповнення числових значень медіанними значеннями\n",
    "for col in data.select_dtypes(include=[\"int\", \"float\"]).columns:\n",
    "    data[col].fillna(data[col].median(), inplace=True)\n",
    "\n",
    "# Перевірка та видалення дублікатів\n",
    "duplicates = data.duplicated().sum()\n",
    "if duplicates:\n",
    "    print(\"\\nВидалення дублікатів...\")\n",
    "    data.drop_duplicates(inplace=True)\n",
    "\n",
    "# Перевірка на аномальні значення в числових стовпцях\n",
    "for col in data.select_dtypes(include=[\"int\", \"float\"]).columns:\n",
    "    if (data[col] < 0).any():\n",
    "        print(f\"\\nЗнайдено нереалістичні значення у стовпці {col}\")\n",
    "        median = data[col].median()\n",
    "        data[col] = data[col].apply(lambda x: median if x < 0 else x)\n",
    "\n",
    "print(\"\\nОсновні статистичні характеристики після очищення:\")\n",
    "print(data.describe())"
   ]
  },
  {
   "cell_type": "code",
   "execution_count": 86,
   "id": "1d9dec18-58b9-400f-aeb8-030f927aae26",
   "metadata": {},
   "outputs": [
    {
     "name": "stdout",
     "output_type": "stream",
     "text": [
      "Ваги моделі Ridge (w): [0.15727612 0.0639526  0.12863866]\n",
      "Зсув моделі Ridge (b): 15.304745986248106\n",
      "Alpha: 10.0\n",
      "Середньоквадратична помилка (MSE) для Ridge: 0.06842698782438111\n"
     ]
    }
   ],
   "source": [
    "X_train, X_test, y_train, y_test = train_test_split(X, y, test_size=0.2, random_state=32)\n",
    "\n",
    "# Масштабування признаків\n",
    "scaler = StandardScaler()\n",
    "X_train_scaled = scaler.fit_transform(X_train)\n",
    "X_test_scaled = scaler.transform(X_test)\n",
    "\n",
    "# Створення та навчання моделі Ridge регресії\n",
    "#ridge_cv = RidgeCV(alphas=[9.0, 10.0, 12.0])\n",
    "ridge_cv = RidgeCV(alphas=np.logspace(-6, 6, 13))\n",
    "ridge_cv.fit(X_train_scaled, y_train)\n",
    "\n",
    "# Оцінка моделі\n",
    "y_pred_ridge = ridge_cv.predict(X_test_scaled)\n",
    "mse_ridge = mean_squared_error(y_test, y_pred_ridge)\n",
    "\n",
    "print(\"Ваги моделі Ridge (w):\", ridge_cv.coef_)\n",
    "print(\"Зсув моделі Ridge (b):\", ridge_cv.intercept_)\n",
    "print(\"Alpha:\", ridge_cv.alpha_)\n",
    "print(\"Середньоквадратична помилка (MSE) для Ridge:\", mse_ridge)"
   ]
  },
  {
   "cell_type": "code",
   "execution_count": 81,
   "id": "9ff76837-4520-44a2-b90a-dc2f342f70a7",
   "metadata": {},
   "outputs": [
    {
     "name": "stdout",
     "output_type": "stream",
     "text": [
      "Ваги моделі Lasso (w): [0.08278599 0.         0.07075378]\n",
      "Зсув моделі Lasso (b): 15.304745986248106\n",
      "Середньоквадратична помилка (MSE) для Lasso: 0.09050348387663665\n"
     ]
    }
   ],
   "source": [
    "# Створення та навчання моделі Lasso регресії\n",
    "lasso_cv = LassoCV(alphas=[0.001, 0.01, 0.1])\n",
    "lasso_model.fit(X_train_scaled, y_train)\n",
    "\n",
    "# Оцінка моделі\n",
    "y_pred_lasso = lasso_model.predict(X_test_scaled)\n",
    "mse_lasso = mean_squared_error(y_test, y_pred_lasso)\n",
    "\n",
    "print(\"Ваги моделі Lasso (w):\", lasso_model.coef_)\n",
    "print(\"Зсув моделі Lasso (b):\", lasso_model.intercept_)\n",
    "print(\"Середньоквадратична помилка (MSE) для Lasso:\", mse_lasso)"
   ]
  },
  {
   "cell_type": "code",
   "execution_count": 82,
   "id": "f6a68de9-dd3f-46b0-a65f-4eb9e69dff7b",
   "metadata": {},
   "outputs": [
    {
     "data": {
      "image/png": "[encoded data removed]",
      "text/plain": [
       "<Figure size 800x400 with 1 Axes>"
      ]
     },
     "metadata": {},
     "output_type": "display_data"
    },
    {
     "data": {
      "image/png": "[encoded data removed]",
      "text/plain": [
       "<Figure size 800x400 with 1 Axes>"
      ]
     },
     "metadata": {},
     "output_type": "display_data"
    },
    {
     "data": {
      "image/png": "[encoded data removed]",
      "text/plain": [
       "<Figure size 800x400 with 1 Axes>"
      ]
     },
     "metadata": {},
     "output_type": "display_data"
    },
    {
     "name": "stdout",
     "output_type": "stream",
     "text": [
      "Индексы выбросов в целевой переменной: []\n"
     ]
    }
   ],
   "source": [
    "import matplotlib.pyplot as plt\n",
    "import seaborn as sns\n",
    "from scipy import stats\n",
    "import numpy as np\n",
    "\n",
    "# Диаграммы размаха для каждого признака\n",
    "for column in X.columns:\n",
    "    plt.figure(figsize=(8, 4))\n",
    "    sns.boxplot(x=X[column])\n",
    "    plt.title(f'Box plot of {column}')\n",
    "    plt.show()\n",
    "\n",
    "# Вычисление Z-оценок для целевой переменной\n",
    "z_scores = np.abs(stats.zscore(y))\n",
    "threshold = 3\n",
    "outliers = np.where(z_scores > threshold)\n",
    "\n",
    "# Вывод индексов выбросов\n",
    "print(\"Индексы выбросов в целевой переменной:\", outliers[0])"
   ]
  },
  {
   "cell_type": "code",
   "execution_count": 84,
   "id": "70501fe0-a91c-4771-8c91-0c54a56c5ce9",
   "metadata": {},
   "outputs": [
    {
     "data": {
      "text/plain": [
       "array([14.96159025,  0.15727612,  0.0639526 ,  0.12863866])"
      ]
     },
     "execution_count": 84,
     "metadata": {},
     "output_type": "execute_result"
    }
   ],
   "source": [
    "X_train_mean = np.mean(X_train, axis=0)\n",
    "X_train_std = np.std(X_train, axis=0)\n",
    "X_train_scaled_manual = (X_train - X_train_mean) / X_train_std\n",
    "\n",
    "X_train_scaled_manual = np.hstack([np.ones((X_train_scaled_manual.shape[0], 1)), X_train_scaled_manual])\n",
    "\n",
    "alpha = 10.0  # alpha в RidgeCV\n",
    "I = np.eye(X_train_scaled_manual.shape[1])\n",
    "w_ridge_analytical = np.linalg.inv(X_train_scaled_manual.T @ X_train_scaled_manual + alpha * I) @ X_train_scaled_manual.T @ y_train\n",
    "\n",
    "w_ridge_analytical"
   ]
  },
  {
   "cell_type": "code",
   "execution_count": 93,
   "id": "c4a16d86-59c7-4909-a828-aabf533af98d",
   "metadata": {},
   "outputs": [
    {
     "name": "stdout",
     "output_type": "stream",
     "text": [
      "Ваги моделі Ridge (w): [0.15727612 0.0639526  0.12863866]\n",
      "Зсув моделі Ridge (b): 15.304745986248106\n",
      "Alpha: 10.0\n",
      "Середньоквадратична помилка (MSE) для Ridge: 0.06842698782438111\n",
      "\n",
      "Значення вагів і перехоплення:  [14.96159025  0.15727612  0.0639526   0.12863866]\n"
     ]
    }
   ],
   "source": [
    "print(\"Ваги моделі Ridge (w):\", ridge_cv.coef_)\n",
    "print(\"Зсув моделі Ridge (b):\", ridge_cv.intercept_)\n",
    "print(\"Alpha:\", ridge_cv.alpha_)\n",
    "print(\"Середньоквадратична помилка (MSE) для Ridge:\", mse_ridge)\n",
    "\n",
    "print(\"\\nЗначення вагів і перехоплення: \", w_ridge_analytical)"
   ]
  },
  {
   "cell_type": "code",
   "execution_count": null,
   "id": "71c6c451-247b-4ad3-a0d9-af76e8d42e54",
   "metadata": {},
   "outputs": [],
   "source": []
  }
 ],
 "metadata": {
  "kernelspec": {
   "display_name": "Python 3 (ipykernel)",
   "language": "python",
   "name": "python3"
  },
  "language_info": {
   "codemirror_mode": {
    "name": "ipython",
    "version": 3
   },
   "file_extension": ".py",
   "mimetype": "text/x-python",
   "name": "python",
   "nbconvert_exporter": "python",
   "pygments_lexer": "ipython3",
   "version": "3.10.11"
  }
 },
 "nbformat": 4,
 "nbformat_minor": 5
}
